{
 "cells": [
  {
   "cell_type": "code",
   "execution_count": 1,
   "id": "c01e6842",
   "metadata": {},
   "outputs": [],
   "source": [
    "import numpy as np\n",
    "import pandas as pd\n",
    "import math\n",
    "from sklearn.model_selection import train_test_split, cross_val_score, RepeatedStratifiedKFold, GridSearchCV\n",
    "from sklearn import metrics\n",
    "from sklearn.preprocessing import OneHotEncoder, StandardScaler, normalize, RobustScaler, MinMaxScaler, LabelEncoder\n",
    "import matplotlib.pyplot as plt\n",
    "import seaborn as sns\n",
    "\n",
    "%matplotlib inline\n",
    "\n",
    "seed = 33"
   ]
  },
  {
   "cell_type": "markdown",
   "id": "31a1211a",
   "metadata": {},
   "source": [
    "### Reading data"
   ]
  },
  {
   "cell_type": "code",
   "execution_count": 2,
   "id": "c25ef8c2",
   "metadata": {},
   "outputs": [
    {
     "data": {
      "text/html": [
       "<div>\n",
       "<style scoped>\n",
       "    .dataframe tbody tr th:only-of-type {\n",
       "        vertical-align: middle;\n",
       "    }\n",
       "\n",
       "    .dataframe tbody tr th {\n",
       "        vertical-align: top;\n",
       "    }\n",
       "\n",
       "    .dataframe thead th {\n",
       "        text-align: right;\n",
       "    }\n",
       "</style>\n",
       "<table border=\"1\" class=\"dataframe\">\n",
       "  <thead>\n",
       "    <tr style=\"text-align: right;\">\n",
       "      <th></th>\n",
       "      <th>fixed acidity</th>\n",
       "      <th>volatile acidity</th>\n",
       "      <th>citric acid</th>\n",
       "      <th>residual sugar</th>\n",
       "      <th>chlorides</th>\n",
       "      <th>free sulfur dioxide</th>\n",
       "      <th>total sulfur dioxide</th>\n",
       "      <th>density</th>\n",
       "      <th>pH</th>\n",
       "      <th>sulphates</th>\n",
       "      <th>alcohol</th>\n",
       "      <th>quality</th>\n",
       "    </tr>\n",
       "  </thead>\n",
       "  <tbody>\n",
       "    <tr>\n",
       "      <th>0</th>\n",
       "      <td>7.0</td>\n",
       "      <td>0.27</td>\n",
       "      <td>0.36</td>\n",
       "      <td>20.7</td>\n",
       "      <td>0.045</td>\n",
       "      <td>45.0</td>\n",
       "      <td>170.0</td>\n",
       "      <td>1.0010</td>\n",
       "      <td>3.00</td>\n",
       "      <td>0.45</td>\n",
       "      <td>8.8</td>\n",
       "      <td>6</td>\n",
       "    </tr>\n",
       "    <tr>\n",
       "      <th>1</th>\n",
       "      <td>6.3</td>\n",
       "      <td>0.30</td>\n",
       "      <td>0.34</td>\n",
       "      <td>1.6</td>\n",
       "      <td>0.049</td>\n",
       "      <td>14.0</td>\n",
       "      <td>132.0</td>\n",
       "      <td>0.9940</td>\n",
       "      <td>3.30</td>\n",
       "      <td>0.49</td>\n",
       "      <td>9.5</td>\n",
       "      <td>6</td>\n",
       "    </tr>\n",
       "    <tr>\n",
       "      <th>2</th>\n",
       "      <td>8.1</td>\n",
       "      <td>0.28</td>\n",
       "      <td>0.40</td>\n",
       "      <td>6.9</td>\n",
       "      <td>0.050</td>\n",
       "      <td>30.0</td>\n",
       "      <td>97.0</td>\n",
       "      <td>0.9951</td>\n",
       "      <td>3.26</td>\n",
       "      <td>0.44</td>\n",
       "      <td>10.1</td>\n",
       "      <td>6</td>\n",
       "    </tr>\n",
       "    <tr>\n",
       "      <th>3</th>\n",
       "      <td>7.2</td>\n",
       "      <td>0.23</td>\n",
       "      <td>0.32</td>\n",
       "      <td>8.5</td>\n",
       "      <td>0.058</td>\n",
       "      <td>47.0</td>\n",
       "      <td>186.0</td>\n",
       "      <td>0.9956</td>\n",
       "      <td>3.19</td>\n",
       "      <td>0.40</td>\n",
       "      <td>9.9</td>\n",
       "      <td>6</td>\n",
       "    </tr>\n",
       "    <tr>\n",
       "      <th>4</th>\n",
       "      <td>7.2</td>\n",
       "      <td>0.23</td>\n",
       "      <td>0.32</td>\n",
       "      <td>8.5</td>\n",
       "      <td>0.058</td>\n",
       "      <td>47.0</td>\n",
       "      <td>186.0</td>\n",
       "      <td>0.9956</td>\n",
       "      <td>3.19</td>\n",
       "      <td>0.40</td>\n",
       "      <td>9.9</td>\n",
       "      <td>6</td>\n",
       "    </tr>\n",
       "  </tbody>\n",
       "</table>\n",
       "</div>"
      ],
      "text/plain": [
       "   fixed acidity  volatile acidity  citric acid  residual sugar  chlorides  \\\n",
       "0            7.0              0.27         0.36            20.7      0.045   \n",
       "1            6.3              0.30         0.34             1.6      0.049   \n",
       "2            8.1              0.28         0.40             6.9      0.050   \n",
       "3            7.2              0.23         0.32             8.5      0.058   \n",
       "4            7.2              0.23         0.32             8.5      0.058   \n",
       "\n",
       "   free sulfur dioxide  total sulfur dioxide  density    pH  sulphates  \\\n",
       "0                 45.0                 170.0   1.0010  3.00       0.45   \n",
       "1                 14.0                 132.0   0.9940  3.30       0.49   \n",
       "2                 30.0                  97.0   0.9951  3.26       0.44   \n",
       "3                 47.0                 186.0   0.9956  3.19       0.40   \n",
       "4                 47.0                 186.0   0.9956  3.19       0.40   \n",
       "\n",
       "   alcohol  quality  \n",
       "0      8.8        6  \n",
       "1      9.5        6  \n",
       "2     10.1        6  \n",
       "3      9.9        6  \n",
       "4      9.9        6  "
      ]
     },
     "execution_count": 2,
     "metadata": {},
     "output_type": "execute_result"
    }
   ],
   "source": [
    "df = pd.read_csv('dataset/winequality-white.csv', sep=';')\n",
    "df.head()"
   ]
  },
  {
   "cell_type": "markdown",
   "id": "9dd6248d",
   "metadata": {},
   "source": [
    "### Studying data"
   ]
  },
  {
   "cell_type": "code",
   "execution_count": 3,
   "id": "9085f3ee",
   "metadata": {},
   "outputs": [
    {
     "data": {
      "text/plain": [
       "fixed acidity           False\n",
       "volatile acidity        False\n",
       "citric acid             False\n",
       "residual sugar          False\n",
       "chlorides               False\n",
       "free sulfur dioxide     False\n",
       "total sulfur dioxide    False\n",
       "density                 False\n",
       "pH                      False\n",
       "sulphates               False\n",
       "alcohol                 False\n",
       "quality                 False\n",
       "dtype: bool"
      ]
     },
     "execution_count": 3,
     "metadata": {},
     "output_type": "execute_result"
    }
   ],
   "source": [
    "# Check null values\n",
    "df.isnull().any()"
   ]
  },
  {
   "cell_type": "code",
   "execution_count": 4,
   "id": "0ee82658",
   "metadata": {},
   "outputs": [
    {
     "data": {
      "text/html": [
       "<div>\n",
       "<style scoped>\n",
       "    .dataframe tbody tr th:only-of-type {\n",
       "        vertical-align: middle;\n",
       "    }\n",
       "\n",
       "    .dataframe tbody tr th {\n",
       "        vertical-align: top;\n",
       "    }\n",
       "\n",
       "    .dataframe thead th {\n",
       "        text-align: right;\n",
       "    }\n",
       "</style>\n",
       "<table border=\"1\" class=\"dataframe\">\n",
       "  <thead>\n",
       "    <tr style=\"text-align: right;\">\n",
       "      <th></th>\n",
       "      <th>fixed acidity</th>\n",
       "      <th>volatile acidity</th>\n",
       "      <th>citric acid</th>\n",
       "      <th>residual sugar</th>\n",
       "      <th>chlorides</th>\n",
       "      <th>free sulfur dioxide</th>\n",
       "      <th>total sulfur dioxide</th>\n",
       "      <th>density</th>\n",
       "      <th>pH</th>\n",
       "      <th>sulphates</th>\n",
       "      <th>alcohol</th>\n",
       "      <th>quality</th>\n",
       "    </tr>\n",
       "  </thead>\n",
       "  <tbody>\n",
       "    <tr>\n",
       "      <th>count</th>\n",
       "      <td>4899.000000</td>\n",
       "      <td>4899.000000</td>\n",
       "      <td>4899.000000</td>\n",
       "      <td>4899.000000</td>\n",
       "      <td>4899.000000</td>\n",
       "      <td>4899.000000</td>\n",
       "      <td>4899.000000</td>\n",
       "      <td>4899.000000</td>\n",
       "      <td>4899.000000</td>\n",
       "      <td>4899.000000</td>\n",
       "      <td>4899.000000</td>\n",
       "      <td>4899.000000</td>\n",
       "    </tr>\n",
       "    <tr>\n",
       "      <th>mean</th>\n",
       "      <td>6.854736</td>\n",
       "      <td>0.278258</td>\n",
       "      <td>0.334182</td>\n",
       "      <td>6.390437</td>\n",
       "      <td>0.045767</td>\n",
       "      <td>35.305777</td>\n",
       "      <td>138.349765</td>\n",
       "      <td>0.994026</td>\n",
       "      <td>3.188312</td>\n",
       "      <td>0.489871</td>\n",
       "      <td>10.514652</td>\n",
       "      <td>5.878547</td>\n",
       "    </tr>\n",
       "    <tr>\n",
       "      <th>std</th>\n",
       "      <td>0.843790</td>\n",
       "      <td>0.100791</td>\n",
       "      <td>0.121009</td>\n",
       "      <td>5.072002</td>\n",
       "      <td>0.021849</td>\n",
       "      <td>17.006169</td>\n",
       "      <td>42.500564</td>\n",
       "      <td>0.002991</td>\n",
       "      <td>0.151018</td>\n",
       "      <td>0.114127</td>\n",
       "      <td>1.230790</td>\n",
       "      <td>0.886671</td>\n",
       "    </tr>\n",
       "    <tr>\n",
       "      <th>min</th>\n",
       "      <td>3.800000</td>\n",
       "      <td>0.080000</td>\n",
       "      <td>0.000000</td>\n",
       "      <td>0.600000</td>\n",
       "      <td>0.009000</td>\n",
       "      <td>2.000000</td>\n",
       "      <td>9.000000</td>\n",
       "      <td>0.987110</td>\n",
       "      <td>2.720000</td>\n",
       "      <td>0.220000</td>\n",
       "      <td>8.000000</td>\n",
       "      <td>3.000000</td>\n",
       "    </tr>\n",
       "    <tr>\n",
       "      <th>25%</th>\n",
       "      <td>6.300000</td>\n",
       "      <td>0.210000</td>\n",
       "      <td>0.270000</td>\n",
       "      <td>1.700000</td>\n",
       "      <td>0.036000</td>\n",
       "      <td>23.000000</td>\n",
       "      <td>108.000000</td>\n",
       "      <td>0.991720</td>\n",
       "      <td>3.090000</td>\n",
       "      <td>0.410000</td>\n",
       "      <td>9.500000</td>\n",
       "      <td>5.000000</td>\n",
       "    </tr>\n",
       "    <tr>\n",
       "      <th>50%</th>\n",
       "      <td>6.800000</td>\n",
       "      <td>0.260000</td>\n",
       "      <td>0.320000</td>\n",
       "      <td>5.200000</td>\n",
       "      <td>0.043000</td>\n",
       "      <td>34.000000</td>\n",
       "      <td>134.000000</td>\n",
       "      <td>0.993740</td>\n",
       "      <td>3.180000</td>\n",
       "      <td>0.470000</td>\n",
       "      <td>10.400000</td>\n",
       "      <td>6.000000</td>\n",
       "    </tr>\n",
       "    <tr>\n",
       "      <th>75%</th>\n",
       "      <td>7.300000</td>\n",
       "      <td>0.320000</td>\n",
       "      <td>0.390000</td>\n",
       "      <td>9.900000</td>\n",
       "      <td>0.050000</td>\n",
       "      <td>46.000000</td>\n",
       "      <td>167.000000</td>\n",
       "      <td>0.996100</td>\n",
       "      <td>3.280000</td>\n",
       "      <td>0.550000</td>\n",
       "      <td>11.400000</td>\n",
       "      <td>6.000000</td>\n",
       "    </tr>\n",
       "    <tr>\n",
       "      <th>max</th>\n",
       "      <td>14.200000</td>\n",
       "      <td>1.100000</td>\n",
       "      <td>1.660000</td>\n",
       "      <td>65.800000</td>\n",
       "      <td>0.346000</td>\n",
       "      <td>289.000000</td>\n",
       "      <td>440.000000</td>\n",
       "      <td>1.038980</td>\n",
       "      <td>3.820000</td>\n",
       "      <td>1.080000</td>\n",
       "      <td>14.200000</td>\n",
       "      <td>9.000000</td>\n",
       "    </tr>\n",
       "  </tbody>\n",
       "</table>\n",
       "</div>"
      ],
      "text/plain": [
       "       fixed acidity  volatile acidity  citric acid  residual sugar  \\\n",
       "count    4899.000000       4899.000000  4899.000000     4899.000000   \n",
       "mean        6.854736          0.278258     0.334182        6.390437   \n",
       "std         0.843790          0.100791     0.121009        5.072002   \n",
       "min         3.800000          0.080000     0.000000        0.600000   \n",
       "25%         6.300000          0.210000     0.270000        1.700000   \n",
       "50%         6.800000          0.260000     0.320000        5.200000   \n",
       "75%         7.300000          0.320000     0.390000        9.900000   \n",
       "max        14.200000          1.100000     1.660000       65.800000   \n",
       "\n",
       "         chlorides  free sulfur dioxide  total sulfur dioxide      density  \\\n",
       "count  4899.000000          4899.000000           4899.000000  4899.000000   \n",
       "mean      0.045767            35.305777            138.349765     0.994026   \n",
       "std       0.021849            17.006169             42.500564     0.002991   \n",
       "min       0.009000             2.000000              9.000000     0.987110   \n",
       "25%       0.036000            23.000000            108.000000     0.991720   \n",
       "50%       0.043000            34.000000            134.000000     0.993740   \n",
       "75%       0.050000            46.000000            167.000000     0.996100   \n",
       "max       0.346000           289.000000            440.000000     1.038980   \n",
       "\n",
       "                pH    sulphates      alcohol      quality  \n",
       "count  4899.000000  4899.000000  4899.000000  4899.000000  \n",
       "mean      3.188312     0.489871    10.514652     5.878547  \n",
       "std       0.151018     0.114127     1.230790     0.886671  \n",
       "min       2.720000     0.220000     8.000000     3.000000  \n",
       "25%       3.090000     0.410000     9.500000     5.000000  \n",
       "50%       3.180000     0.470000    10.400000     6.000000  \n",
       "75%       3.280000     0.550000    11.400000     6.000000  \n",
       "max       3.820000     1.080000    14.200000     9.000000  "
      ]
     },
     "execution_count": 4,
     "metadata": {},
     "output_type": "execute_result"
    }
   ],
   "source": [
    "# View features description\n",
    "df.describe()"
   ]
  },
  {
   "cell_type": "code",
   "execution_count": 5,
   "id": "c4aa9eb0",
   "metadata": {},
   "outputs": [
    {
     "data": {
      "text/plain": [
       "6    2198\n",
       "5    1457\n",
       "7     880\n",
       "8     175\n",
       "4     163\n",
       "3      20\n",
       "9       6\n",
       "Name: quality, dtype: int64"
      ]
     },
     "execution_count": 5,
     "metadata": {},
     "output_type": "execute_result"
    }
   ],
   "source": [
    "df['quality'].value_counts()"
   ]
  },
  {
   "cell_type": "code",
   "execution_count": 6,
   "id": "65201123",
   "metadata": {},
   "outputs": [
    {
     "data": {
      "text/plain": [
       "array([[<AxesSubplot:title={'center':'quality'}>]], dtype=object)"
      ]
     },
     "execution_count": 6,
     "metadata": {},
     "output_type": "execute_result"
    },
    {
     "data": {
      "image/png": "[encoded data removed]",
      "text/plain": [
       "<Figure size 432x288 with 1 Axes>"
      ]
     },
     "metadata": {
      "needs_background": "light"
     },
     "output_type": "display_data"
    }
   ],
   "source": [
    "df.hist(column='quality', bins=50)"
   ]
  },
  {
   "cell_type": "code",
   "execution_count": 7,
   "id": "2781266a",
   "metadata": {},
   "outputs": [],
   "source": [
    "def iqr_outliers(df):\n",
    "    out=[]\n",
    "    q1 = df.quantile(0.25)\n",
    "    q3 = df.quantile(0.75)\n",
    "    iqr = q3-q1\n",
    "    Lower_tail = q1 - 1.5 * iqr\n",
    "    Upper_tail = q3 + 1.5 * iqr\n",
    "    for i in df:\n",
    "        if i > Upper_tail or i < Lower_tail:\n",
    "            out.append(i)\n",
    "    return out"
   ]
  },
  {
   "cell_type": "code",
   "execution_count": 8,
   "id": "dc2486d5",
   "metadata": {},
   "outputs": [
    {
     "name": "stdout",
     "output_type": "stream",
     "text": [
      "fixed acidity\n",
      "volatile acidity\n",
      "citric acid\n",
      "residual sugar\n",
      "chlorides\n",
      "free sulfur dioxide\n",
      "total sulfur dioxide\n",
      "density\n",
      "pH\n",
      "sulphates\n",
      "alcohol\n",
      "Total:  1063\n"
     ]
    }
   ],
   "source": [
    "count = 0\n",
    "for name in list(df.iloc[:, :-1]):\n",
    "    print(name)\n",
    "    outliers = iqr_outliers(df[name])\n",
    "    count += len(outliers)\n",
    "print('Total: ', count)"
   ]
  },
  {
   "cell_type": "code",
   "execution_count": 9,
   "id": "9491ef14",
   "metadata": {},
   "outputs": [
    {
     "data": {
      "text/plain": [
       "<AxesSubplot:>"
      ]
     },
     "execution_count": 9,
     "metadata": {},
     "output_type": "execute_result"
    },
    {
     "data": {
      "image/png": "[encoded data removed]",
      "text/plain": [
       "<Figure size 1440x720 with 1 Axes>"
      ]
     },
     "metadata": {
      "needs_background": "light"
     },
     "output_type": "display_data"
    }
   ],
   "source": [
    "fig = plt.figure(figsize = (20,10))\n",
    "df.boxplot(column=['fixed acidity'], grid=False)"
   ]
  },
  {
   "cell_type": "markdown",
   "id": "2c3f4077",
   "metadata": {},
   "source": [
    "#### Detect features and target"
   ]
  },
  {
   "cell_type": "code",
   "execution_count": 10,
   "id": "7b7e35d1",
   "metadata": {},
   "outputs": [],
   "source": [
    "bins = (1, 4.5, 7.5, 10)\n",
    "group_names = ['bad', 'good', 'high']\n",
    "df['quality'] = pd.cut(df['quality'], bins = bins, labels = group_names)"
   ]
  },
  {
   "cell_type": "code",
   "execution_count": 11,
   "id": "13ca1e4d",
   "metadata": {},
   "outputs": [
    {
     "data": {
      "text/plain": [
       "good    4535\n",
       "bad      183\n",
       "high     181\n",
       "Name: quality, dtype: int64"
      ]
     },
     "execution_count": 11,
     "metadata": {},
     "output_type": "execute_result"
    }
   ],
   "source": [
    "df['quality'].value_counts()"
   ]
  },
  {
   "cell_type": "code",
   "execution_count": 12,
   "id": "75a7f5e9",
   "metadata": {},
   "outputs": [],
   "source": [
    "label_quality = LabelEncoder()\n",
    "df['quality'] = label_quality.fit_transform(df['quality'])"
   ]
  },
  {
   "cell_type": "code",
   "execution_count": 13,
   "id": "1d24abf7",
   "metadata": {},
   "outputs": [
    {
     "data": {
      "text/plain": [
       "array([[<AxesSubplot:title={'center':'quality'}>]], dtype=object)"
      ]
     },
     "execution_count": 13,
     "metadata": {},
     "output_type": "execute_result"
    },
    {
     "data": {
      "image/png": "[encoded data removed]",
      "text/plain": [
       "<Figure size 432x288 with 1 Axes>"
      ]
     },
     "metadata": {
      "needs_background": "light"
     },
     "output_type": "display_data"
    }
   ],
   "source": [
    "df.hist(column='quality', bins=50)"
   ]
  },
  {
   "cell_type": "code",
   "execution_count": 14,
   "id": "af60d36d",
   "metadata": {},
   "outputs": [
    {
     "name": "stdout",
     "output_type": "stream",
     "text": [
      "(4899, 11)\n",
      "(4899,)\n"
     ]
    }
   ],
   "source": [
    "X = df.iloc[:, :-1]\n",
    "y = df.iloc[:, -1]\n",
    "\n",
    "print(X.shape)\n",
    "print(y.shape)"
   ]
  },
  {
   "cell_type": "markdown",
   "id": "97d0a9c1",
   "metadata": {},
   "source": [
    "#### Preprocessing"
   ]
  },
  {
   "cell_type": "code",
   "execution_count": 15,
   "id": "2c4ac913",
   "metadata": {},
   "outputs": [],
   "source": [
    "scaler = RobustScaler()\n",
    "X = scaler.fit_transform(X)"
   ]
  },
  {
   "cell_type": "code",
   "execution_count": 16,
   "id": "f7390950",
   "metadata": {},
   "outputs": [
    {
     "name": "stdout",
     "output_type": "stream",
     "text": [
      "(12391, 11)\n",
      "(12391,)\n"
     ]
    },
    {
     "data": {
      "text/plain": [
       "<AxesSubplot:>"
      ]
     },
     "execution_count": 16,
     "metadata": {},
     "output_type": "execute_result"
    },
    {
     "data": {
      "image/png": "[encoded data removed]",
      "text/plain": [
       "<Figure size 432x288 with 1 Axes>"
      ]
     },
     "metadata": {
      "needs_background": "light"
     },
     "output_type": "display_data"
    }
   ],
   "source": [
    "from imblearn.over_sampling import SMOTE\n",
    "from imblearn.combine import SMOTEENN, SMOTETomek\n",
    "from imblearn.under_sampling import RandomUnderSampler\n",
    "from imblearn.pipeline import Pipeline\n",
    "\n",
    "# Balance dataset\n",
    "over = SMOTEENN()\n",
    "\n",
    "X, y = over.fit_resample(X, y)\n",
    "print(X.shape)\n",
    "print(y.shape)\n",
    "y.hist(bins=25)"
   ]
  },
  {
   "cell_type": "code",
   "execution_count": 16,
   "id": "9cab8717",
   "metadata": {},
   "outputs": [],
   "source": [
    "balanced_scaled_df = pd.DataFrame(X, columns = [name for name in list(df.iloc[:, :-1])])"
   ]
  },
  {
   "cell_type": "code",
   "execution_count": 17,
   "id": "dc7d907b",
   "metadata": {},
   "outputs": [
    {
     "name": "stdout",
     "output_type": "stream",
     "text": [
      "fixed acidity\n",
      "volatile acidity\n",
      "citric acid\n",
      "residual sugar\n",
      "chlorides\n",
      "free sulfur dioxide\n",
      "total sulfur dioxide\n",
      "density\n",
      "pH\n",
      "sulphates\n",
      "alcohol\n",
      "Total:  1081\n"
     ]
    }
   ],
   "source": [
    "count = 0\n",
    "for name in list(df.iloc[:, :-1]):\n",
    "    print(name)\n",
    "    outliers = iqr_outliers(balanced_scaled_df[name])\n",
    "    count += len(outliers)\n",
    "print('Total: ', count)"
   ]
  },
  {
   "cell_type": "code",
   "execution_count": null,
   "id": "0cdf515b",
   "metadata": {},
   "outputs": [],
   "source": []
  },
  {
   "cell_type": "markdown",
   "id": "8f3e4700",
   "metadata": {},
   "source": [
    "### Feature selection "
   ]
  },
  {
   "cell_type": "markdown",
   "id": "d8d04b10",
   "metadata": {},
   "source": [
    "#### By correlation "
   ]
  },
  {
   "cell_type": "code",
   "execution_count": 18,
   "id": "400b8049",
   "metadata": {},
   "outputs": [
    {
     "data": {
      "text/plain": [
       "<AxesSubplot:>"
      ]
     },
     "execution_count": 18,
     "metadata": {},
     "output_type": "execute_result"
    },
    {
     "data": {
      "image/png": "[encoded data removed]",
      "text/plain": [
       "<Figure size 1080x720 with 2 Axes>"
      ]
     },
     "metadata": {
      "needs_background": "light"
     },
     "output_type": "display_data"
    }
   ],
   "source": [
    "corr = balanced_scaled_df.corr()\n",
    "plt.subplots(figsize=(15,10))\n",
    "sns.heatmap(corr, xticklabels=corr.columns, yticklabels=corr.columns, annot=True, cmap=sns.diverging_palette(220, 20, as_cmap=True))"
   ]
  },
  {
   "cell_type": "code",
   "execution_count": 19,
   "id": "933354e5",
   "metadata": {},
   "outputs": [
    {
     "name": "stdout",
     "output_type": "stream",
     "text": [
      "Index(['fixed acidity', 'volatile acidity', 'citric acid', 'residual sugar',\n",
      "       'chlorides', 'free sulfur dioxide', 'total sulfur dioxide', 'pH',\n",
      "       'sulphates', 'alcohol'],\n",
      "      dtype='object')\n"
     ]
    }
   ],
   "source": [
    "columns = np.full((corr.shape[0],), True, dtype=bool)\n",
    "for i in range(corr.shape[0]):\n",
    "    for j in range(i + 1, corr.shape[0]):\n",
    "        if abs(corr.iloc[i, j]) >= 0.8:\n",
    "            if columns[j]:\n",
    "                columns[j] = False\n",
    "selected_columns = balanced_scaled_df.columns[columns]\n",
    "print(selected_columns)"
   ]
  },
  {
   "cell_type": "code",
   "execution_count": 20,
   "id": "50ad2171",
   "metadata": {},
   "outputs": [],
   "source": [
    "reduced_df = balanced_scaled_df[selected_columns]"
   ]
  },
  {
   "cell_type": "code",
   "execution_count": 21,
   "id": "cea4f572",
   "metadata": {},
   "outputs": [
    {
     "data": {
      "text/html": [
       "<div>\n",
       "<style scoped>\n",
       "    .dataframe tbody tr th:only-of-type {\n",
       "        vertical-align: middle;\n",
       "    }\n",
       "\n",
       "    .dataframe tbody tr th {\n",
       "        vertical-align: top;\n",
       "    }\n",
       "\n",
       "    .dataframe thead th {\n",
       "        text-align: right;\n",
       "    }\n",
       "</style>\n",
       "<table border=\"1\" class=\"dataframe\">\n",
       "  <thead>\n",
       "    <tr style=\"text-align: right;\">\n",
       "      <th></th>\n",
       "      <th>fixed acidity</th>\n",
       "      <th>volatile acidity</th>\n",
       "      <th>citric acid</th>\n",
       "      <th>residual sugar</th>\n",
       "      <th>chlorides</th>\n",
       "      <th>free sulfur dioxide</th>\n",
       "      <th>total sulfur dioxide</th>\n",
       "      <th>pH</th>\n",
       "      <th>sulphates</th>\n",
       "      <th>alcohol</th>\n",
       "    </tr>\n",
       "  </thead>\n",
       "  <tbody>\n",
       "    <tr>\n",
       "      <th>0</th>\n",
       "      <td>0.2</td>\n",
       "      <td>0.090909</td>\n",
       "      <td>0.333333</td>\n",
       "      <td>1.890244</td>\n",
       "      <td>0.142857</td>\n",
       "      <td>0.478261</td>\n",
       "      <td>0.610169</td>\n",
       "      <td>-0.947368</td>\n",
       "      <td>-0.142857</td>\n",
       "      <td>-0.842105</td>\n",
       "    </tr>\n",
       "    <tr>\n",
       "      <th>1</th>\n",
       "      <td>-0.5</td>\n",
       "      <td>0.363636</td>\n",
       "      <td>0.166667</td>\n",
       "      <td>-0.439024</td>\n",
       "      <td>0.428571</td>\n",
       "      <td>-0.869565</td>\n",
       "      <td>-0.033898</td>\n",
       "      <td>0.631579</td>\n",
       "      <td>0.142857</td>\n",
       "      <td>-0.473684</td>\n",
       "    </tr>\n",
       "    <tr>\n",
       "      <th>2</th>\n",
       "      <td>1.3</td>\n",
       "      <td>0.181818</td>\n",
       "      <td>0.666667</td>\n",
       "      <td>0.207317</td>\n",
       "      <td>0.500000</td>\n",
       "      <td>-0.173913</td>\n",
       "      <td>-0.627119</td>\n",
       "      <td>0.421053</td>\n",
       "      <td>-0.214286</td>\n",
       "      <td>-0.157895</td>\n",
       "    </tr>\n",
       "    <tr>\n",
       "      <th>3</th>\n",
       "      <td>0.4</td>\n",
       "      <td>-0.272727</td>\n",
       "      <td>0.000000</td>\n",
       "      <td>0.402439</td>\n",
       "      <td>1.071429</td>\n",
       "      <td>0.565217</td>\n",
       "      <td>0.881356</td>\n",
       "      <td>0.052632</td>\n",
       "      <td>-0.500000</td>\n",
       "      <td>-0.263158</td>\n",
       "    </tr>\n",
       "    <tr>\n",
       "      <th>4</th>\n",
       "      <td>0.4</td>\n",
       "      <td>-0.272727</td>\n",
       "      <td>0.000000</td>\n",
       "      <td>0.402439</td>\n",
       "      <td>1.071429</td>\n",
       "      <td>0.565217</td>\n",
       "      <td>0.881356</td>\n",
       "      <td>0.052632</td>\n",
       "      <td>-0.500000</td>\n",
       "      <td>-0.263158</td>\n",
       "    </tr>\n",
       "  </tbody>\n",
       "</table>\n",
       "</div>"
      ],
      "text/plain": [
       "   fixed acidity  volatile acidity  citric acid  residual sugar  chlorides  \\\n",
       "0            0.2          0.090909     0.333333        1.890244   0.142857   \n",
       "1           -0.5          0.363636     0.166667       -0.439024   0.428571   \n",
       "2            1.3          0.181818     0.666667        0.207317   0.500000   \n",
       "3            0.4         -0.272727     0.000000        0.402439   1.071429   \n",
       "4            0.4         -0.272727     0.000000        0.402439   1.071429   \n",
       "\n",
       "   free sulfur dioxide  total sulfur dioxide        pH  sulphates   alcohol  \n",
       "0             0.478261              0.610169 -0.947368  -0.142857 -0.842105  \n",
       "1            -0.869565             -0.033898  0.631579   0.142857 -0.473684  \n",
       "2            -0.173913             -0.627119  0.421053  -0.214286 -0.157895  \n",
       "3             0.565217              0.881356  0.052632  -0.500000 -0.263158  \n",
       "4             0.565217              0.881356  0.052632  -0.500000 -0.263158  "
      ]
     },
     "execution_count": 21,
     "metadata": {},
     "output_type": "execute_result"
    }
   ],
   "source": [
    "reduced_df.head()"
   ]
  },
  {
   "cell_type": "code",
   "execution_count": 22,
   "id": "9e531143",
   "metadata": {},
   "outputs": [
    {
     "name": "stdout",
     "output_type": "stream",
     "text": [
      "(4899, 10)\n"
     ]
    }
   ],
   "source": [
    "X = reduced_df.iloc[:, :].values\n",
    "print(X.shape)"
   ]
  },
  {
   "cell_type": "code",
   "execution_count": null,
   "id": "79e411b0",
   "metadata": {},
   "outputs": [],
   "source": []
  },
  {
   "cell_type": "markdown",
   "id": "8873c882",
   "metadata": {},
   "source": [
    "#### Split data in train and test "
   ]
  },
  {
   "cell_type": "code",
   "execution_count": 23,
   "id": "530ca8ea",
   "metadata": {},
   "outputs": [],
   "source": [
    "X_train, X_test, y_train, y_test = train_test_split(X, y, test_size=0.2, random_state=seed)"
   ]
  },
  {
   "cell_type": "code",
   "execution_count": 24,
   "id": "fe1b8a10",
   "metadata": {},
   "outputs": [
    {
     "data": {
      "text/plain": [
       "array([[ 0.5       ,  0.27272727,  0.41666667,  0.37804878,  0.07142857,\n",
       "         0.47826087,  1.57627119, -0.31578947,  0.        , -0.73684211],\n",
       "       [-0.4       ,  0.18181818, -1.08333333,  0.02439024, -0.07142857,\n",
       "         1.43478261,  0.79661017,  0.68421053, -0.85714286, -0.10526316],\n",
       "       [ 0.5       ,  0.        , -0.66666667, -0.42682927,  0.5       ,\n",
       "        -1.04347826, -0.37288136, -0.36842105, -0.28571429, -0.26315789],\n",
       "       [ 0.1       ,  0.54545455, -1.41666667,  0.35365854,  0.21428571,\n",
       "         0.73913043,  0.77966102, -0.26315789, -0.14285714, -0.78947368],\n",
       "       [-1.7       ,  0.63636364, -0.83333333, -0.43902439, -1.14285714,\n",
       "        -0.69565217, -0.76271186,  1.73684211, -0.64285714,  1.10526316]])"
      ]
     },
     "execution_count": 24,
     "metadata": {},
     "output_type": "execute_result"
    }
   ],
   "source": [
    "X_test[:5]"
   ]
  },
  {
   "cell_type": "code",
   "execution_count": 25,
   "id": "25a03bc4",
   "metadata": {},
   "outputs": [
    {
     "data": {
      "text/plain": [
       "2058    1\n",
       "1760    1\n",
       "2971    1\n",
       "2027    1\n",
       "374     1\n",
       "Name: quality, dtype: int64"
      ]
     },
     "execution_count": 25,
     "metadata": {},
     "output_type": "execute_result"
    }
   ],
   "source": [
    "y_test[:5]"
   ]
  },
  {
   "cell_type": "code",
   "execution_count": 26,
   "id": "7a6e3e18",
   "metadata": {},
   "outputs": [
    {
     "name": "stdout",
     "output_type": "stream",
     "text": [
      "Train set: (3919, 10) (3919,)\n",
      "Test set: (980, 10) (980,)\n"
     ]
    }
   ],
   "source": [
    "print ('Train set:', X_train.shape, y_train.shape)\n",
    "print ('Test set:', X_test.shape, y_test.shape)"
   ]
  },
  {
   "cell_type": "code",
   "execution_count": null,
   "id": "400aa84a",
   "metadata": {},
   "outputs": [],
   "source": []
  },
  {
   "cell_type": "markdown",
   "id": "b0e1bca7",
   "metadata": {},
   "source": [
    "#### Util functions "
   ]
  },
  {
   "cell_type": "code",
   "execution_count": 27,
   "id": "c23492d6",
   "metadata": {},
   "outputs": [],
   "source": [
    "def print_cros_val_score(model):\n",
    "    cv = RepeatedStratifiedKFold(n_splits=10, n_repeats=3, random_state=7)\n",
    "    scores = cross_val_score(model, X, y, cv=5, n_jobs = -1)\n",
    "    print(scores.mean())"
   ]
  },
  {
   "cell_type": "code",
   "execution_count": 28,
   "id": "df03fcf5",
   "metadata": {},
   "outputs": [],
   "source": [
    "all_metrics = {}\n",
    "def print_metrics(y_pred, model_name=''):\n",
    "\n",
    "    confusion_mat = metrics.confusion_matrix(y_test, y_pred)\n",
    "    print(\"Confusion matrix is : \", confusion_mat)\n",
    "    \n",
    "    acc =  metrics.accuracy_score(y_test, y_pred)\n",
    "    print(\"Accuracy:\", acc)\n",
    "    \n",
    "    recall = metrics.recall_score(y_test, y_pred, average='weighted')\n",
    "    print(\"Recall_score is :\", recall)\n",
    "    \n",
    "    precision = metrics.precision_score(y_test, y_pred, average='weighted')\n",
    "    print(\"Precision Score is : \", precision)\n",
    "    \n",
    "    f1 = 2 * (recall * precision) / (recall + precision)\n",
    "    print(\"F1 score is: \", f1)\n",
    "    \n",
    "    jacc = metrics.jaccard_score(y_test, y_pred, average='weighted')\n",
    "    print(\"Jaccard: \", jacc)\n",
    "    \n",
    "    all_metrics[model_name] = {}\n",
    "    all_metrics[model_name]['Accuracy'] = acc\n",
    "    all_metrics[model_name]['Recall_score'] = recall\n",
    "    all_metrics[model_name]['Precision'] = precision\n",
    "    all_metrics[model_name]['F1'] = f1\n",
    "    all_metrics[model_name]['Jaccard'] = jacc\n",
    "    \n",
    "    "
   ]
  },
  {
   "cell_type": "code",
   "execution_count": 29,
   "id": "a338e71a",
   "metadata": {},
   "outputs": [],
   "source": [
    "test_cases = X_test[:3]\n",
    "expected = [0, 1, 0]\n",
    "\n",
    "def test_prediction(model):\n",
    "    y_prediction_test = model.predict(test_cases)\n",
    "    print(\"Predicted: \", y_prediction_test)\n",
    "    print(\"Expected: \", expected)"
   ]
  },
  {
   "cell_type": "code",
   "execution_count": 30,
   "id": "99ea7884",
   "metadata": {},
   "outputs": [],
   "source": [
    "def get_best_params(model, param):\n",
    "    grid_svc = GridSearchCV(model, param_grid=param, scoring='accuracy', cv=10)\n",
    "    grid_svc.fit(X_train, y_train)\n",
    "    best = grid_svc.best_params_\n",
    "    return best"
   ]
  },
  {
   "cell_type": "markdown",
   "id": "633677a4",
   "metadata": {},
   "source": [
    "# K nearest neighbor (KNN)"
   ]
  },
  {
   "cell_type": "code",
   "execution_count": 34,
   "id": "65254e65",
   "metadata": {},
   "outputs": [
    {
     "data": {
      "text/plain": [
       "{'n_neighbors': 1}"
      ]
     },
     "execution_count": 34,
     "metadata": {},
     "output_type": "execute_result"
    }
   ],
   "source": [
    "from sklearn.neighbors import KNeighborsClassifier\n",
    "param = {\n",
    "    'n_neighbors': [1, 2, 5, 8, 12, 20, 50],\n",
    "}\n",
    "get_best_params(KNeighborsClassifier(), param)"
   ]
  },
  {
   "cell_type": "code",
   "execution_count": 31,
   "id": "bcd42c7f",
   "metadata": {},
   "outputs": [
    {
     "data": {
      "text/plain": [
       "KNeighborsClassifier(n_neighbors=1)"
      ]
     },
     "execution_count": 31,
     "metadata": {},
     "output_type": "execute_result"
    }
   ],
   "source": [
    "from sklearn.neighbors import KNeighborsClassifier\n",
    "k = 1\n",
    "neigh = KNeighborsClassifier(n_neighbors=k, p=2, metric='minkowski')\n",
    "neigh.fit(X_train, y_train)\n"
   ]
  },
  {
   "cell_type": "code",
   "execution_count": 36,
   "id": "30f5ae6c",
   "metadata": {},
   "outputs": [
    {
     "name": "stdout",
     "output_type": "stream",
     "text": [
      "0.9698173942798279\n"
     ]
    }
   ],
   "source": [
    "print_cros_val_score(neigh)"
   ]
  },
  {
   "cell_type": "code",
   "execution_count": 32,
   "id": "7edbda47",
   "metadata": {},
   "outputs": [],
   "source": [
    "y_pred = neigh.predict(X_test)"
   ]
  },
  {
   "cell_type": "code",
   "execution_count": 33,
   "id": "9378d5b4",
   "metadata": {},
   "outputs": [
    {
     "name": "stdout",
     "output_type": "stream",
     "text": [
      "Confusion matrix is :  [[ 12  26   0]\n",
      " [ 22 864  16]\n",
      " [  1  27  12]]\n",
      "Accuracy: 0.9061224489795918\n",
      "Recall_score is : 0.9061224489795918\n",
      "Precision Score is :  0.8979983531035097\n",
      "F1 score is:  0.9020421093246859\n",
      "Jaccard:  0.8490786736608151\n"
     ]
    }
   ],
   "source": [
    "print_metrics(y_pred, 'KNN')"
   ]
  },
  {
   "cell_type": "code",
   "execution_count": 86,
   "id": "2816a48e",
   "metadata": {},
   "outputs": [
    {
     "name": "stdout",
     "output_type": "stream",
     "text": [
      "Predicted:  [2 0 2]\n",
      "Expected:  [0, 1, 0]\n"
     ]
    }
   ],
   "source": [
    "test_prediction(neigh)"
   ]
  },
  {
   "cell_type": "code",
   "execution_count": null,
   "id": "431b83b1",
   "metadata": {},
   "outputs": [],
   "source": []
  },
  {
   "cell_type": "markdown",
   "id": "12f96a97",
   "metadata": {},
   "source": [
    "# SVM"
   ]
  },
  {
   "cell_type": "code",
   "execution_count": 40,
   "id": "79df17a7",
   "metadata": {},
   "outputs": [
    {
     "data": {
      "text/plain": [
       "{'C': 1.2, 'gamma': 1.2}"
      ]
     },
     "execution_count": 40,
     "metadata": {},
     "output_type": "execute_result"
    }
   ],
   "source": [
    "from sklearn.svm import SVC\n",
    "\n",
    "param = {\n",
    "    'C': [1, 1.2],\n",
    "    'gamma' :[0.9, 1.2]\n",
    "}\n",
    "get_best_params(SVC(), param)"
   ]
  },
  {
   "cell_type": "code",
   "execution_count": 34,
   "id": "0a4d34a4",
   "metadata": {},
   "outputs": [
    {
     "data": {
      "text/plain": [
       "SVC(C=1.2, gamma=1.2)"
      ]
     },
     "execution_count": 34,
     "metadata": {},
     "output_type": "execute_result"
    }
   ],
   "source": [
    "from sklearn.svm import SVC\n",
    "\n",
    "svc = SVC(C=1.2, gamma=1.2, kernel='rbf')\n",
    "svc.fit(X_train, y_train)"
   ]
  },
  {
   "cell_type": "code",
   "execution_count": 42,
   "id": "df5cdc67",
   "metadata": {},
   "outputs": [
    {
     "name": "stdout",
     "output_type": "stream",
     "text": [
      "0.9924951188042511\n"
     ]
    }
   ],
   "source": [
    "print_cros_val_score(svc)"
   ]
  },
  {
   "cell_type": "code",
   "execution_count": 35,
   "id": "dfd5de61",
   "metadata": {},
   "outputs": [],
   "source": [
    "y_pred = svc.predict(X_test)"
   ]
  },
  {
   "cell_type": "code",
   "execution_count": 36,
   "id": "7bd823cf",
   "metadata": {},
   "outputs": [
    {
     "name": "stdout",
     "output_type": "stream",
     "text": [
      "Confusion matrix is :  [[  2  36   0]\n",
      " [  0 900   2]\n",
      " [  0  32   8]]\n",
      "Accuracy: 0.9285714285714286\n",
      "Recall_score is : 0.9285714285714286\n",
      "Precision Score is :  0.9271799628942486\n",
      "F1 score is:  0.9278751740636269\n",
      "Jaccard:  0.863802310320299\n"
     ]
    }
   ],
   "source": [
    "print_metrics(y_pred, 'SVC')"
   ]
  },
  {
   "cell_type": "code",
   "execution_count": 46,
   "id": "68ab6f5d",
   "metadata": {},
   "outputs": [
    {
     "name": "stdout",
     "output_type": "stream",
     "text": [
      "Predicted:  [2 0 2]\n",
      "Expected:  [0, 1, 0]\n"
     ]
    }
   ],
   "source": [
    "test_prediction(svc)"
   ]
  },
  {
   "cell_type": "code",
   "execution_count": null,
   "id": "2594d738",
   "metadata": {},
   "outputs": [],
   "source": []
  },
  {
   "cell_type": "code",
   "execution_count": 47,
   "id": "e95d1444",
   "metadata": {},
   "outputs": [
    {
     "data": {
      "text/plain": [
       "{'gamma': 1.5, 'nu': 0.2}"
      ]
     },
     "execution_count": 47,
     "metadata": {},
     "output_type": "execute_result"
    }
   ],
   "source": [
    "from sklearn.svm import NuSVC\n",
    "\n",
    "param = {\n",
    "    'nu': [0.2, 0.5, 0.8],\n",
    "    'gamma' :[0.1, 1, 1.5]\n",
    "}\n",
    "get_best_params(NuSVC(), param)"
   ]
  },
  {
   "cell_type": "code",
   "execution_count": 41,
   "id": "cd2bfded",
   "metadata": {},
   "outputs": [
    {
     "data": {
      "text/plain": [
       "NuSVC(gamma=1.5, nu=0.0001)"
      ]
     },
     "execution_count": 41,
     "metadata": {},
     "output_type": "execute_result"
    }
   ],
   "source": [
    "from sklearn.svm import NuSVC\n",
    "\n",
    "nuSvc = NuSVC(gamma=1.5, nu=0.0001)\n",
    "nuSvc.fit(X_train, y_train)"
   ]
  },
  {
   "cell_type": "code",
   "execution_count": 49,
   "id": "fc895743",
   "metadata": {},
   "outputs": [
    {
     "name": "stdout",
     "output_type": "stream",
     "text": [
      "0.9919300168225036\n"
     ]
    }
   ],
   "source": [
    "print_cros_val_score(nuSvc)"
   ]
  },
  {
   "cell_type": "code",
   "execution_count": 42,
   "id": "c819f137",
   "metadata": {},
   "outputs": [],
   "source": [
    "y_pred = nuSvc.predict(X_test)"
   ]
  },
  {
   "cell_type": "code",
   "execution_count": 43,
   "id": "db27f770",
   "metadata": {},
   "outputs": [
    {
     "name": "stdout",
     "output_type": "stream",
     "text": [
      "Confusion matrix is :  [[  8  30   0]\n",
      " [ 13 882   7]\n",
      " [  0  29  11]]\n",
      "Accuracy: 0.9193877551020408\n",
      "Recall_score is : 0.9193877551020408\n",
      "Precision Score is :  0.9024141897030054\n",
      "F1 score is:  0.9108219018089339\n",
      "Jaccard:  0.8603802474783612\n"
     ]
    }
   ],
   "source": [
    "print_metrics(y_pred, 'NuSVC')"
   ]
  },
  {
   "cell_type": "code",
   "execution_count": 52,
   "id": "f372e2b2",
   "metadata": {},
   "outputs": [
    {
     "name": "stdout",
     "output_type": "stream",
     "text": [
      "Predicted:  [2 0 2]\n",
      "Expected:  [0, 1, 0]\n"
     ]
    }
   ],
   "source": [
    "test_prediction(nuSvc)"
   ]
  },
  {
   "cell_type": "code",
   "execution_count": null,
   "id": "cc69989d",
   "metadata": {},
   "outputs": [],
   "source": []
  },
  {
   "cell_type": "markdown",
   "id": "e701ee94",
   "metadata": {},
   "source": [
    "# Bagging"
   ]
  },
  {
   "cell_type": "markdown",
   "id": "c9d9bc08",
   "metadata": {},
   "source": [
    "## Random Forest Classifier"
   ]
  },
  {
   "cell_type": "code",
   "execution_count": 53,
   "id": "309cf994",
   "metadata": {},
   "outputs": [
    {
     "data": {
      "text/plain": [
       "{'max_features': 'sqrt', 'n_estimators': 200}"
      ]
     },
     "execution_count": 53,
     "metadata": {},
     "output_type": "execute_result"
    }
   ],
   "source": [
    "from sklearn.ensemble import RandomForestClassifier\n",
    "\n",
    "param = {\n",
    "    'n_estimators': [50, 100, 200],\n",
    "    'max_features' :['sqrt', 'log2', None]\n",
    "}\n",
    "get_best_params(RandomForestClassifier(), param)"
   ]
  },
  {
   "cell_type": "code",
   "execution_count": 44,
   "id": "70c0db73",
   "metadata": {},
   "outputs": [
    {
     "data": {
      "text/plain": [
       "RandomForestClassifier(max_features='sqrt', n_estimators=200)"
      ]
     },
     "execution_count": 44,
     "metadata": {},
     "output_type": "execute_result"
    }
   ],
   "source": [
    "from sklearn.ensemble import RandomForestClassifier\n",
    "\n",
    "n_estimators = 200\n",
    "max_features = 'sqrt'\n",
    "rf = RandomForestClassifier(n_estimators=n_estimators, max_features=max_features)\n",
    "rf.fit(X_train, y_train)"
   ]
  },
  {
   "cell_type": "code",
   "execution_count": 55,
   "id": "83f49c15",
   "metadata": {},
   "outputs": [
    {
     "name": "stdout",
     "output_type": "stream",
     "text": [
      "0.9659430418094723\n"
     ]
    }
   ],
   "source": [
    "print_cros_val_score(rf)"
   ]
  },
  {
   "cell_type": "code",
   "execution_count": 45,
   "id": "33ce57f4",
   "metadata": {},
   "outputs": [],
   "source": [
    "y_pred = rf.predict(X_test)"
   ]
  },
  {
   "cell_type": "code",
   "execution_count": 46,
   "id": "45802a6e",
   "metadata": {},
   "outputs": [
    {
     "name": "stdout",
     "output_type": "stream",
     "text": [
      "Confusion matrix is :  [[ 10  28   0]\n",
      " [  2 898   2]\n",
      " [  0  32   8]]\n",
      "Accuracy: 0.9346938775510204\n",
      "Recall_score is : 0.9346938775510204\n",
      "Precision Score is :  0.9277285444449178\n",
      "F1 score is:  0.9311981860620829\n",
      "Jaccard:  0.87664360368442\n"
     ]
    }
   ],
   "source": [
    "print_metrics(y_pred, 'RandomForestClassifier')"
   ]
  },
  {
   "cell_type": "code",
   "execution_count": 58,
   "id": "f0423061",
   "metadata": {},
   "outputs": [
    {
     "name": "stdout",
     "output_type": "stream",
     "text": [
      "Predicted:  [2 0 2]\n",
      "Expected:  [0, 1, 0]\n"
     ]
    }
   ],
   "source": [
    "test_prediction(rf)"
   ]
  },
  {
   "cell_type": "markdown",
   "id": "85046b7f",
   "metadata": {},
   "source": [
    "## Extra Trees "
   ]
  },
  {
   "cell_type": "code",
   "execution_count": 59,
   "id": "9f318e0f",
   "metadata": {},
   "outputs": [
    {
     "data": {
      "text/plain": [
       "{'max_features': 'log2', 'n_estimators': 200}"
      ]
     },
     "execution_count": 59,
     "metadata": {},
     "output_type": "execute_result"
    }
   ],
   "source": [
    "from sklearn.ensemble import ExtraTreesClassifier\n",
    "\n",
    "param = {\n",
    "    'n_estimators': [50, 100, 200],\n",
    "    'max_features' :['sqrt', 'log2', None]\n",
    "}\n",
    "get_best_params(ExtraTreesClassifier(), param)"
   ]
  },
  {
   "cell_type": "code",
   "execution_count": 47,
   "id": "a166ecef",
   "metadata": {},
   "outputs": [
    {
     "data": {
      "text/plain": [
       "ExtraTreesClassifier(max_features='log2', n_estimators=200, random_state=33)"
      ]
     },
     "execution_count": 47,
     "metadata": {},
     "output_type": "execute_result"
    }
   ],
   "source": [
    "from sklearn.ensemble import ExtraTreesClassifier\n",
    "\n",
    "\n",
    "n_estimators = 200\n",
    "max_features = 'log2'\n",
    "et = ExtraTreesClassifier(n_estimators=n_estimators, max_features=max_features, random_state=seed)\n",
    "et.fit(X_train, y_train)"
   ]
  },
  {
   "cell_type": "code",
   "execution_count": 61,
   "id": "ccbea098",
   "metadata": {},
   "outputs": [
    {
     "name": "stdout",
     "output_type": "stream",
     "text": [
      "0.9763538175883231\n"
     ]
    }
   ],
   "source": [
    "print_cros_val_score(et)"
   ]
  },
  {
   "cell_type": "code",
   "execution_count": 48,
   "id": "e2619c25",
   "metadata": {},
   "outputs": [],
   "source": [
    "y_pred = et.predict(X_test)"
   ]
  },
  {
   "cell_type": "code",
   "execution_count": 49,
   "id": "0bc5a3bc",
   "metadata": {},
   "outputs": [
    {
     "name": "stdout",
     "output_type": "stream",
     "text": [
      "Confusion matrix is :  [[  9  29   0]\n",
      " [  4 896   2]\n",
      " [  0  31   9]]\n",
      "Accuracy: 0.9326530612244898\n",
      "Recall_score is : 0.9326530612244898\n",
      "Precision Score is :  0.9228817207896706\n",
      "F1 score is:  0.9277416628194928\n",
      "Jaccard:  0.8743170508476631\n"
     ]
    }
   ],
   "source": [
    "print_metrics(y_pred, 'ExtraTreesClassifier')"
   ]
  },
  {
   "cell_type": "code",
   "execution_count": 64,
   "id": "b9a066da",
   "metadata": {},
   "outputs": [
    {
     "name": "stdout",
     "output_type": "stream",
     "text": [
      "Predicted:  [2 0 2]\n",
      "Expected:  [0, 1, 0]\n"
     ]
    }
   ],
   "source": [
    "test_prediction(et)"
   ]
  },
  {
   "cell_type": "markdown",
   "id": "3273ad3d",
   "metadata": {},
   "source": [
    "# Boosting"
   ]
  },
  {
   "cell_type": "markdown",
   "id": "1f778265",
   "metadata": {},
   "source": [
    "## AdaBoost "
   ]
  },
  {
   "cell_type": "code",
   "execution_count": 67,
   "id": "4ca726f0",
   "metadata": {},
   "outputs": [
    {
     "data": {
      "text/plain": [
       "{'n_estimators': 200}"
      ]
     },
     "execution_count": 67,
     "metadata": {},
     "output_type": "execute_result"
    }
   ],
   "source": [
    "from sklearn.ensemble import AdaBoostClassifier\n",
    "\n",
    "\n",
    "param = {\n",
    "    'n_estimators': [50, 100, 200, 500],\n",
    "}\n",
    "get_best_params(AdaBoostClassifier(), param)"
   ]
  },
  {
   "cell_type": "code",
   "execution_count": 50,
   "id": "6e1109b2",
   "metadata": {},
   "outputs": [
    {
     "data": {
      "text/plain": [
       "AdaBoostClassifier(n_estimators=500, random_state=7)"
      ]
     },
     "execution_count": 50,
     "metadata": {},
     "output_type": "execute_result"
    }
   ],
   "source": [
    "from sklearn.ensemble import AdaBoostClassifier\n",
    "\n",
    "\n",
    "n_estimators = 500\n",
    "ab = AdaBoostClassifier(n_estimators=n_estimators, random_state=7)\n",
    "ab.fit(X_train, y_train)"
   ]
  },
  {
   "cell_type": "code",
   "execution_count": 71,
   "id": "696b577e",
   "metadata": {},
   "outputs": [
    {
     "name": "stdout",
     "output_type": "stream",
     "text": [
      "0.7810511932191668\n"
     ]
    }
   ],
   "source": [
    "print_cros_val_score(ab)"
   ]
  },
  {
   "cell_type": "code",
   "execution_count": 98,
   "id": "3dddb19a",
   "metadata": {},
   "outputs": [],
   "source": [
    "y_pred = ab.predict(X_test)"
   ]
  },
  {
   "cell_type": "code",
   "execution_count": 51,
   "id": "eaa9e0b6",
   "metadata": {},
   "outputs": [
    {
     "name": "stdout",
     "output_type": "stream",
     "text": [
      "Confusion matrix is :  [[  9  29   0]\n",
      " [  4 896   2]\n",
      " [  0  31   9]]\n",
      "Accuracy: 0.9326530612244898\n",
      "Recall_score is : 0.9326530612244898\n",
      "Precision Score is :  0.9228817207896706\n",
      "F1 score is:  0.9277416628194928\n",
      "Jaccard:  0.8743170508476631\n"
     ]
    }
   ],
   "source": [
    "print_metrics(y_pred, 'AdaBoostClassifier')"
   ]
  },
  {
   "cell_type": "code",
   "execution_count": 74,
   "id": "1e552994",
   "metadata": {},
   "outputs": [
    {
     "name": "stdout",
     "output_type": "stream",
     "text": [
      "Predicted:  [2 0 2]\n",
      "Expected:  [0, 1, 0]\n"
     ]
    }
   ],
   "source": [
    "test_prediction(ab)"
   ]
  },
  {
   "cell_type": "markdown",
   "id": "28f43491",
   "metadata": {},
   "source": [
    "# Gradient Boosting"
   ]
  },
  {
   "cell_type": "code",
   "execution_count": 76,
   "id": "5903d405",
   "metadata": {},
   "outputs": [
    {
     "data": {
      "text/plain": [
       "{'learning_rate': 0.7, 'max_features': 'log2', 'n_estimators': 500}"
      ]
     },
     "execution_count": 76,
     "metadata": {},
     "output_type": "execute_result"
    }
   ],
   "source": [
    "from sklearn.ensemble import GradientBoostingClassifier\n",
    "\n",
    "\n",
    "param = {\n",
    "    'n_estimators': [100, 500],\n",
    "    'learning_rate': [0.1, 0.4, 0.7],\n",
    "    'max_features' :['sqrt', 'log2', None],\n",
    "}\n",
    "get_best_params(GradientBoostingClassifier(), param)"
   ]
  },
  {
   "cell_type": "code",
   "execution_count": 52,
   "id": "69331989",
   "metadata": {},
   "outputs": [
    {
     "data": {
      "text/plain": [
       "GradientBoostingClassifier(learning_rate=0.7, max_features='log2',\n",
       "                           n_estimators=500, random_state=33)"
      ]
     },
     "execution_count": 52,
     "metadata": {},
     "output_type": "execute_result"
    }
   ],
   "source": [
    "from sklearn.ensemble import GradientBoostingClassifier\n",
    "\n",
    "n_estimators=500\n",
    "learning_rate=0.7\n",
    "max_features='log2'\n",
    "gb = GradientBoostingClassifier(n_estimators=n_estimators, learning_rate=learning_rate, max_features=max_features, random_state=seed)\n",
    "gb.fit(X_train, y_train)"
   ]
  },
  {
   "cell_type": "code",
   "execution_count": 78,
   "id": "a0aae680",
   "metadata": {},
   "outputs": [
    {
     "name": "stdout",
     "output_type": "stream",
     "text": [
      "0.9708670833386239\n"
     ]
    }
   ],
   "source": [
    "print_cros_val_score(gb)"
   ]
  },
  {
   "cell_type": "code",
   "execution_count": 53,
   "id": "993b8dd9",
   "metadata": {},
   "outputs": [],
   "source": [
    "y_pred = gb.predict(X_test)"
   ]
  },
  {
   "cell_type": "code",
   "execution_count": 54,
   "id": "b4f4d4c8",
   "metadata": {},
   "outputs": [
    {
     "name": "stdout",
     "output_type": "stream",
     "text": [
      "Confusion matrix is :  [[  7  19  12]\n",
      " [125 391 386]\n",
      " [  2   7  31]]\n",
      "Accuracy: 0.4377551020408163\n",
      "Recall_score is : 0.4377551020408163\n",
      "Precision Score is :  0.8679956217998279\n",
      "F1 score is:  0.5819939519150327\n",
      "Jaccard:  0.39233513271542997\n"
     ]
    }
   ],
   "source": [
    "print_metrics(y_pred, 'GradientBoostingClassifier')"
   ]
  },
  {
   "cell_type": "code",
   "execution_count": 55,
   "id": "90bb0cf4",
   "metadata": {},
   "outputs": [
    {
     "name": "stdout",
     "output_type": "stream",
     "text": [
      "Predicted:  [1 1 0]\n",
      "Expected:  [0, 1, 0]\n"
     ]
    }
   ],
   "source": [
    "test_prediction(gb)"
   ]
  },
  {
   "cell_type": "code",
   "execution_count": 56,
   "id": "9579ec4b",
   "metadata": {},
   "outputs": [
    {
     "data": {
      "text/html": [
       "<div>\n",
       "<style scoped>\n",
       "    .dataframe tbody tr th:only-of-type {\n",
       "        vertical-align: middle;\n",
       "    }\n",
       "\n",
       "    .dataframe tbody tr th {\n",
       "        vertical-align: top;\n",
       "    }\n",
       "\n",
       "    .dataframe thead th {\n",
       "        text-align: right;\n",
       "    }\n",
       "</style>\n",
       "<table border=\"1\" class=\"dataframe\">\n",
       "  <thead>\n",
       "    <tr style=\"text-align: right;\">\n",
       "      <th></th>\n",
       "      <th>KNN</th>\n",
       "      <th>SVC</th>\n",
       "      <th>NuSVC</th>\n",
       "      <th>RandomForestClassifier</th>\n",
       "      <th>ExtraTreesClassifier</th>\n",
       "      <th>AdaBoostClassifier</th>\n",
       "      <th>GradientBoostingClassifier</th>\n",
       "      <th>Best</th>\n",
       "    </tr>\n",
       "  </thead>\n",
       "  <tbody>\n",
       "    <tr>\n",
       "      <th>Accuracy</th>\n",
       "      <td>0.906122</td>\n",
       "      <td>0.928571</td>\n",
       "      <td>0.919388</td>\n",
       "      <td>0.934694</td>\n",
       "      <td>0.932653</td>\n",
       "      <td>0.932653</td>\n",
       "      <td>0.437755</td>\n",
       "      <td>RandomForestClassifier</td>\n",
       "    </tr>\n",
       "    <tr>\n",
       "      <th>Recall_score</th>\n",
       "      <td>0.906122</td>\n",
       "      <td>0.928571</td>\n",
       "      <td>0.919388</td>\n",
       "      <td>0.934694</td>\n",
       "      <td>0.932653</td>\n",
       "      <td>0.932653</td>\n",
       "      <td>0.437755</td>\n",
       "      <td>RandomForestClassifier</td>\n",
       "    </tr>\n",
       "    <tr>\n",
       "      <th>Precision</th>\n",
       "      <td>0.897998</td>\n",
       "      <td>0.927180</td>\n",
       "      <td>0.902414</td>\n",
       "      <td>0.927729</td>\n",
       "      <td>0.922882</td>\n",
       "      <td>0.922882</td>\n",
       "      <td>0.867996</td>\n",
       "      <td>RandomForestClassifier</td>\n",
       "    </tr>\n",
       "    <tr>\n",
       "      <th>F1</th>\n",
       "      <td>0.902042</td>\n",
       "      <td>0.927875</td>\n",
       "      <td>0.910822</td>\n",
       "      <td>0.931198</td>\n",
       "      <td>0.927742</td>\n",
       "      <td>0.927742</td>\n",
       "      <td>0.581994</td>\n",
       "      <td>RandomForestClassifier</td>\n",
       "    </tr>\n",
       "    <tr>\n",
       "      <th>Jaccard</th>\n",
       "      <td>0.849079</td>\n",
       "      <td>0.863802</td>\n",
       "      <td>0.860380</td>\n",
       "      <td>0.876644</td>\n",
       "      <td>0.874317</td>\n",
       "      <td>0.874317</td>\n",
       "      <td>0.392335</td>\n",
       "      <td>RandomForestClassifier</td>\n",
       "    </tr>\n",
       "  </tbody>\n",
       "</table>\n",
       "</div>"
      ],
      "text/plain": [
       "                   KNN       SVC     NuSVC  RandomForestClassifier  \\\n",
       "Accuracy      0.906122  0.928571  0.919388                0.934694   \n",
       "Recall_score  0.906122  0.928571  0.919388                0.934694   \n",
       "Precision     0.897998  0.927180  0.902414                0.927729   \n",
       "F1            0.902042  0.927875  0.910822                0.931198   \n",
       "Jaccard       0.849079  0.863802  0.860380                0.876644   \n",
       "\n",
       "              ExtraTreesClassifier  AdaBoostClassifier  \\\n",
       "Accuracy                  0.932653            0.932653   \n",
       "Recall_score              0.932653            0.932653   \n",
       "Precision                 0.922882            0.922882   \n",
       "F1                        0.927742            0.927742   \n",
       "Jaccard                   0.874317            0.874317   \n",
       "\n",
       "              GradientBoostingClassifier                    Best  \n",
       "Accuracy                        0.437755  RandomForestClassifier  \n",
       "Recall_score                    0.437755  RandomForestClassifier  \n",
       "Precision                       0.867996  RandomForestClassifier  \n",
       "F1                              0.581994  RandomForestClassifier  \n",
       "Jaccard                         0.392335  RandomForestClassifier  "
      ]
     },
     "execution_count": 56,
     "metadata": {},
     "output_type": "execute_result"
    }
   ],
   "source": [
    "metrics_df = pd.DataFrame(all_metrics)\n",
    "metrics_df['Best'] = metrics_df.idxmax(axis=1)\n",
    "metrics_df"
   ]
  },
  {
   "cell_type": "code",
   "execution_count": null,
   "id": "c236d643",
   "metadata": {},
   "outputs": [],
   "source": []
  }
 ],
 "metadata": {
  "kernelspec": {
   "display_name": "Python 3 (ipykernel)",
   "language": "python",
   "name": "python3"
  },
  "language_info": {
   "codemirror_mode": {
    "name": "ipython",
    "version": 3
   },
   "file_extension": ".py",
   "mimetype": "text/x-python",
   "name": "python",
   "nbconvert_exporter": "python",
   "pygments_lexer": "ipython3",
   "version": "3.9.7"
  }
 },
 "nbformat": 4,
 "nbformat_minor": 5
}
