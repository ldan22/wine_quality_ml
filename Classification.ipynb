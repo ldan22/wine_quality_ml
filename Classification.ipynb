{
 "cells": [
  {
   "cell_type": "code",
   "execution_count": 48,
   "id": "c01e6842",
   "metadata": {},
   "outputs": [],
   "source": [
    "import numpy as np\n",
    "import pandas as pd\n",
    "import math\n",
    "from sklearn.model_selection import train_test_split, cross_val_score, RepeatedStratifiedKFold, GridSearchCV\n",
    "from sklearn import metrics\n",
    "from sklearn.preprocessing import OneHotEncoder, StandardScaler, normalize, RobustScaler, MinMaxScaler, LabelEncoder\n",
    "import matplotlib.pyplot as plt\n",
    "import seaborn as sns\n",
    "\n",
    "%matplotlib inline\n",
    "\n",
    "seed = 33"
   ]
  },
  {
   "cell_type": "markdown",
   "id": "31a1211a",
   "metadata": {},
   "source": [
    "### Reading data"
   ]
  },
  {
   "cell_type": "code",
   "execution_count": 49,
   "id": "c25ef8c2",
   "metadata": {},
   "outputs": [
    {
     "data": {
      "text/html": [
       "<div>\n",
       "<style scoped>\n",
       "    .dataframe tbody tr th:only-of-type {\n",
       "        vertical-align: middle;\n",
       "    }\n",
       "\n",
       "    .dataframe tbody tr th {\n",
       "        vertical-align: top;\n",
       "    }\n",
       "\n",
       "    .dataframe thead th {\n",
       "        text-align: right;\n",
       "    }\n",
       "</style>\n",
       "<table border=\"1\" class=\"dataframe\">\n",
       "  <thead>\n",
       "    <tr style=\"text-align: right;\">\n",
       "      <th></th>\n",
       "      <th>fixed acidity</th>\n",
       "      <th>volatile acidity</th>\n",
       "      <th>citric acid</th>\n",
       "      <th>residual sugar</th>\n",
       "      <th>chlorides</th>\n",
       "      <th>free sulfur dioxide</th>\n",
       "      <th>total sulfur dioxide</th>\n",
       "      <th>density</th>\n",
       "      <th>pH</th>\n",
       "      <th>sulphates</th>\n",
       "      <th>alcohol</th>\n",
       "      <th>quality</th>\n",
       "    </tr>\n",
       "  </thead>\n",
       "  <tbody>\n",
       "    <tr>\n",
       "      <th>0</th>\n",
       "      <td>7.0</td>\n",
       "      <td>0.27</td>\n",
       "      <td>0.36</td>\n",
       "      <td>20.7</td>\n",
       "      <td>0.045</td>\n",
       "      <td>45.0</td>\n",
       "      <td>170.0</td>\n",
       "      <td>1.0010</td>\n",
       "      <td>3.00</td>\n",
       "      <td>0.45</td>\n",
       "      <td>8.8</td>\n",
       "      <td>6</td>\n",
       "    </tr>\n",
       "    <tr>\n",
       "      <th>1</th>\n",
       "      <td>6.3</td>\n",
       "      <td>0.30</td>\n",
       "      <td>0.34</td>\n",
       "      <td>1.6</td>\n",
       "      <td>0.049</td>\n",
       "      <td>14.0</td>\n",
       "      <td>132.0</td>\n",
       "      <td>0.9940</td>\n",
       "      <td>3.30</td>\n",
       "      <td>0.49</td>\n",
       "      <td>9.5</td>\n",
       "      <td>6</td>\n",
       "    </tr>\n",
       "    <tr>\n",
       "      <th>2</th>\n",
       "      <td>8.1</td>\n",
       "      <td>0.28</td>\n",
       "      <td>0.40</td>\n",
       "      <td>6.9</td>\n",
       "      <td>0.050</td>\n",
       "      <td>30.0</td>\n",
       "      <td>97.0</td>\n",
       "      <td>0.9951</td>\n",
       "      <td>3.26</td>\n",
       "      <td>0.44</td>\n",
       "      <td>10.1</td>\n",
       "      <td>6</td>\n",
       "    </tr>\n",
       "    <tr>\n",
       "      <th>3</th>\n",
       "      <td>7.2</td>\n",
       "      <td>0.23</td>\n",
       "      <td>0.32</td>\n",
       "      <td>8.5</td>\n",
       "      <td>0.058</td>\n",
       "      <td>47.0</td>\n",
       "      <td>186.0</td>\n",
       "      <td>0.9956</td>\n",
       "      <td>3.19</td>\n",
       "      <td>0.40</td>\n",
       "      <td>9.9</td>\n",
       "      <td>6</td>\n",
       "    </tr>\n",
       "    <tr>\n",
       "      <th>4</th>\n",
       "      <td>7.2</td>\n",
       "      <td>0.23</td>\n",
       "      <td>0.32</td>\n",
       "      <td>8.5</td>\n",
       "      <td>0.058</td>\n",
       "      <td>47.0</td>\n",
       "      <td>186.0</td>\n",
       "      <td>0.9956</td>\n",
       "      <td>3.19</td>\n",
       "      <td>0.40</td>\n",
       "      <td>9.9</td>\n",
       "      <td>6</td>\n",
       "    </tr>\n",
       "  </tbody>\n",
       "</table>\n",
       "</div>"
      ],
      "text/plain": [
       "   fixed acidity  volatile acidity  citric acid  residual sugar  chlorides  \\\n",
       "0            7.0              0.27         0.36            20.7      0.045   \n",
       "1            6.3              0.30         0.34             1.6      0.049   \n",
       "2            8.1              0.28         0.40             6.9      0.050   \n",
       "3            7.2              0.23         0.32             8.5      0.058   \n",
       "4            7.2              0.23         0.32             8.5      0.058   \n",
       "\n",
       "   free sulfur dioxide  total sulfur dioxide  density    pH  sulphates  \\\n",
       "0                 45.0                 170.0   1.0010  3.00       0.45   \n",
       "1                 14.0                 132.0   0.9940  3.30       0.49   \n",
       "2                 30.0                  97.0   0.9951  3.26       0.44   \n",
       "3                 47.0                 186.0   0.9956  3.19       0.40   \n",
       "4                 47.0                 186.0   0.9956  3.19       0.40   \n",
       "\n",
       "   alcohol  quality  \n",
       "0      8.8        6  \n",
       "1      9.5        6  \n",
       "2     10.1        6  \n",
       "3      9.9        6  \n",
       "4      9.9        6  "
      ]
     },
     "execution_count": 49,
     "metadata": {},
     "output_type": "execute_result"
    }
   ],
   "source": [
    "df = pd.read_csv('dataset/winequality-white.csv', sep=';')\n",
    "df.head()"
   ]
  },
  {
   "cell_type": "markdown",
   "id": "9dd6248d",
   "metadata": {},
   "source": [
    "### Studying data"
   ]
  },
  {
   "cell_type": "code",
   "execution_count": 50,
   "id": "9085f3ee",
   "metadata": {},
   "outputs": [
    {
     "data": {
      "text/plain": [
       "fixed acidity           False\n",
       "volatile acidity        False\n",
       "citric acid             False\n",
       "residual sugar          False\n",
       "chlorides               False\n",
       "free sulfur dioxide     False\n",
       "total sulfur dioxide    False\n",
       "density                 False\n",
       "pH                      False\n",
       "sulphates               False\n",
       "alcohol                 False\n",
       "quality                 False\n",
       "dtype: bool"
      ]
     },
     "execution_count": 50,
     "metadata": {},
     "output_type": "execute_result"
    }
   ],
   "source": [
    "# Check null values\n",
    "df.isnull().any()"
   ]
  },
  {
   "cell_type": "code",
   "execution_count": 51,
   "id": "0ee82658",
   "metadata": {},
   "outputs": [
    {
     "data": {
      "text/html": [
       "<div>\n",
       "<style scoped>\n",
       "    .dataframe tbody tr th:only-of-type {\n",
       "        vertical-align: middle;\n",
       "    }\n",
       "\n",
       "    .dataframe tbody tr th {\n",
       "        vertical-align: top;\n",
       "    }\n",
       "\n",
       "    .dataframe thead th {\n",
       "        text-align: right;\n",
       "    }\n",
       "</style>\n",
       "<table border=\"1\" class=\"dataframe\">\n",
       "  <thead>\n",
       "    <tr style=\"text-align: right;\">\n",
       "      <th></th>\n",
       "      <th>fixed acidity</th>\n",
       "      <th>volatile acidity</th>\n",
       "      <th>citric acid</th>\n",
       "      <th>residual sugar</th>\n",
       "      <th>chlorides</th>\n",
       "      <th>free sulfur dioxide</th>\n",
       "      <th>total sulfur dioxide</th>\n",
       "      <th>density</th>\n",
       "      <th>pH</th>\n",
       "      <th>sulphates</th>\n",
       "      <th>alcohol</th>\n",
       "      <th>quality</th>\n",
       "    </tr>\n",
       "  </thead>\n",
       "  <tbody>\n",
       "    <tr>\n",
       "      <th>count</th>\n",
       "      <td>4899.000000</td>\n",
       "      <td>4899.000000</td>\n",
       "      <td>4899.000000</td>\n",
       "      <td>4899.000000</td>\n",
       "      <td>4899.000000</td>\n",
       "      <td>4899.000000</td>\n",
       "      <td>4899.000000</td>\n",
       "      <td>4899.000000</td>\n",
       "      <td>4899.000000</td>\n",
       "      <td>4899.000000</td>\n",
       "      <td>4899.000000</td>\n",
       "      <td>4899.000000</td>\n",
       "    </tr>\n",
       "    <tr>\n",
       "      <th>mean</th>\n",
       "      <td>6.854736</td>\n",
       "      <td>0.278258</td>\n",
       "      <td>0.334182</td>\n",
       "      <td>6.390437</td>\n",
       "      <td>0.045767</td>\n",
       "      <td>35.305777</td>\n",
       "      <td>138.349765</td>\n",
       "      <td>0.994026</td>\n",
       "      <td>3.188312</td>\n",
       "      <td>0.489871</td>\n",
       "      <td>10.514652</td>\n",
       "      <td>5.878547</td>\n",
       "    </tr>\n",
       "    <tr>\n",
       "      <th>std</th>\n",
       "      <td>0.843790</td>\n",
       "      <td>0.100791</td>\n",
       "      <td>0.121009</td>\n",
       "      <td>5.072002</td>\n",
       "      <td>0.021849</td>\n",
       "      <td>17.006169</td>\n",
       "      <td>42.500564</td>\n",
       "      <td>0.002991</td>\n",
       "      <td>0.151018</td>\n",
       "      <td>0.114127</td>\n",
       "      <td>1.230790</td>\n",
       "      <td>0.886671</td>\n",
       "    </tr>\n",
       "    <tr>\n",
       "      <th>min</th>\n",
       "      <td>3.800000</td>\n",
       "      <td>0.080000</td>\n",
       "      <td>0.000000</td>\n",
       "      <td>0.600000</td>\n",
       "      <td>0.009000</td>\n",
       "      <td>2.000000</td>\n",
       "      <td>9.000000</td>\n",
       "      <td>0.987110</td>\n",
       "      <td>2.720000</td>\n",
       "      <td>0.220000</td>\n",
       "      <td>8.000000</td>\n",
       "      <td>3.000000</td>\n",
       "    </tr>\n",
       "    <tr>\n",
       "      <th>25%</th>\n",
       "      <td>6.300000</td>\n",
       "      <td>0.210000</td>\n",
       "      <td>0.270000</td>\n",
       "      <td>1.700000</td>\n",
       "      <td>0.036000</td>\n",
       "      <td>23.000000</td>\n",
       "      <td>108.000000</td>\n",
       "      <td>0.991720</td>\n",
       "      <td>3.090000</td>\n",
       "      <td>0.410000</td>\n",
       "      <td>9.500000</td>\n",
       "      <td>5.000000</td>\n",
       "    </tr>\n",
       "    <tr>\n",
       "      <th>50%</th>\n",
       "      <td>6.800000</td>\n",
       "      <td>0.260000</td>\n",
       "      <td>0.320000</td>\n",
       "      <td>5.200000</td>\n",
       "      <td>0.043000</td>\n",
       "      <td>34.000000</td>\n",
       "      <td>134.000000</td>\n",
       "      <td>0.993740</td>\n",
       "      <td>3.180000</td>\n",
       "      <td>0.470000</td>\n",
       "      <td>10.400000</td>\n",
       "      <td>6.000000</td>\n",
       "    </tr>\n",
       "    <tr>\n",
       "      <th>75%</th>\n",
       "      <td>7.300000</td>\n",
       "      <td>0.320000</td>\n",
       "      <td>0.390000</td>\n",
       "      <td>9.900000</td>\n",
       "      <td>0.050000</td>\n",
       "      <td>46.000000</td>\n",
       "      <td>167.000000</td>\n",
       "      <td>0.996100</td>\n",
       "      <td>3.280000</td>\n",
       "      <td>0.550000</td>\n",
       "      <td>11.400000</td>\n",
       "      <td>6.000000</td>\n",
       "    </tr>\n",
       "    <tr>\n",
       "      <th>max</th>\n",
       "      <td>14.200000</td>\n",
       "      <td>1.100000</td>\n",
       "      <td>1.660000</td>\n",
       "      <td>65.800000</td>\n",
       "      <td>0.346000</td>\n",
       "      <td>289.000000</td>\n",
       "      <td>440.000000</td>\n",
       "      <td>1.038980</td>\n",
       "      <td>3.820000</td>\n",
       "      <td>1.080000</td>\n",
       "      <td>14.200000</td>\n",
       "      <td>9.000000</td>\n",
       "    </tr>\n",
       "  </tbody>\n",
       "</table>\n",
       "</div>"
      ],
      "text/plain": [
       "       fixed acidity  volatile acidity  citric acid  residual sugar  \\\n",
       "count    4899.000000       4899.000000  4899.000000     4899.000000   \n",
       "mean        6.854736          0.278258     0.334182        6.390437   \n",
       "std         0.843790          0.100791     0.121009        5.072002   \n",
       "min         3.800000          0.080000     0.000000        0.600000   \n",
       "25%         6.300000          0.210000     0.270000        1.700000   \n",
       "50%         6.800000          0.260000     0.320000        5.200000   \n",
       "75%         7.300000          0.320000     0.390000        9.900000   \n",
       "max        14.200000          1.100000     1.660000       65.800000   \n",
       "\n",
       "         chlorides  free sulfur dioxide  total sulfur dioxide      density  \\\n",
       "count  4899.000000          4899.000000           4899.000000  4899.000000   \n",
       "mean      0.045767            35.305777            138.349765     0.994026   \n",
       "std       0.021849            17.006169             42.500564     0.002991   \n",
       "min       0.009000             2.000000              9.000000     0.987110   \n",
       "25%       0.036000            23.000000            108.000000     0.991720   \n",
       "50%       0.043000            34.000000            134.000000     0.993740   \n",
       "75%       0.050000            46.000000            167.000000     0.996100   \n",
       "max       0.346000           289.000000            440.000000     1.038980   \n",
       "\n",
       "                pH    sulphates      alcohol      quality  \n",
       "count  4899.000000  4899.000000  4899.000000  4899.000000  \n",
       "mean      3.188312     0.489871    10.514652     5.878547  \n",
       "std       0.151018     0.114127     1.230790     0.886671  \n",
       "min       2.720000     0.220000     8.000000     3.000000  \n",
       "25%       3.090000     0.410000     9.500000     5.000000  \n",
       "50%       3.180000     0.470000    10.400000     6.000000  \n",
       "75%       3.280000     0.550000    11.400000     6.000000  \n",
       "max       3.820000     1.080000    14.200000     9.000000  "
      ]
     },
     "execution_count": 51,
     "metadata": {},
     "output_type": "execute_result"
    }
   ],
   "source": [
    "# View features description\n",
    "df.describe()"
   ]
  },
  {
   "cell_type": "code",
   "execution_count": 52,
   "id": "c4aa9eb0",
   "metadata": {},
   "outputs": [
    {
     "data": {
      "text/plain": [
       "6    2198\n",
       "5    1457\n",
       "7     880\n",
       "8     175\n",
       "4     163\n",
       "3      20\n",
       "9       6\n",
       "Name: quality, dtype: int64"
      ]
     },
     "execution_count": 52,
     "metadata": {},
     "output_type": "execute_result"
    }
   ],
   "source": [
    "df['quality'].value_counts()"
   ]
  },
  {
   "cell_type": "code",
   "execution_count": 53,
   "id": "65201123",
   "metadata": {},
   "outputs": [
    {
     "data": {
      "text/plain": [
       "array([[<AxesSubplot:title={'center':'quality'}>]], dtype=object)"
      ]
     },
     "execution_count": 53,
     "metadata": {},
     "output_type": "execute_result"
    },
    {
     "data": {
      "image/png": "[encoded data removed]",
      "text/plain": [
       "<Figure size 432x288 with 1 Axes>"
      ]
     },
     "metadata": {
      "needs_background": "light"
     },
     "output_type": "display_data"
    }
   ],
   "source": [
    "df.hist(column='quality', bins=50)"
   ]
  },
  {
   "cell_type": "code",
   "execution_count": 54,
   "id": "2781266a",
   "metadata": {},
   "outputs": [],
   "source": [
    "def iqr_outliers(df):\n",
    "    out=[]\n",
    "    q1 = df.quantile(0.25)\n",
    "    q3 = df.quantile(0.75)\n",
    "    iqr = q3-q1\n",
    "    Lower_tail = q1 - 1.5 * iqr\n",
    "    Upper_tail = q3 + 1.5 * iqr\n",
    "    for i in df:\n",
    "        if i > Upper_tail or i < Lower_tail:\n",
    "            out.append(i)\n",
    "    return out"
   ]
  },
  {
   "cell_type": "code",
   "execution_count": 55,
   "id": "dc2486d5",
   "metadata": {},
   "outputs": [
    {
     "name": "stdout",
     "output_type": "stream",
     "text": [
      "fixed acidity\n",
      "[9.8, 9.8, 10.2, 9.1, 10.0, 9.2, 9.2, 9.0, 9.1, 9.2, 10.3, 9.4, 9.2, 9.8, 9.6, 9.2, 9.0, 9.3, 9.2, 9.1, 8.9, 9.8, 8.9, 9.2, 9.7, 9.4, 10.3, 9.6, 9.0, 9.7, 9.2, 9.4, 9.6, 9.2, 9.0, 9.2, 10.7, 10.7, 9.0, 9.2, 9.8, 9.2, 14.2, 8.9, 8.9, 9.1, 9.1, 9.8, 9.0, 9.3, 8.9, 9.0, 9.0, 8.9, 9.0, 9.3, 9.2, 9.6, 9.4, 9.4, 10.0, 8.9, 8.9, 10.0, 9.2, 9.2, 9.2, 9.9, 9.5, 9.0, 9.0, 8.9, 9.5, 11.8, 9.4, 9.1, 9.8, 9.9, 9.2, 8.9, 9.2, 9.4, 9.4, 9.4, 4.6, 8.9, 9.4, 9.2, 9.2, 9.8, 9.0, 9.0, 9.0, 8.9, 8.9, 4.5, 9.2, 9.6, 4.2, 9.7, 9.7, 9.0, 4.2, 9.4, 8.9, 8.9, 8.9, 4.7, 4.7, 3.8, 4.4, 4.7, 9.0, 9.0, 4.7, 4.4, 3.9, 4.7, 4.4]\n",
      "volatile acidity\n",
      "[0.66, 0.66, 0.67, 0.54, 0.595, 0.67, 0.53, 0.54, 0.57, 0.685, 0.495, 0.64, 0.52, 0.58, 0.585, 0.59, 0.6, 0.58, 0.59, 0.55, 0.905, 0.55, 0.49, 0.55, 0.52, 0.6, 0.55, 0.51, 0.62, 0.51, 0.56, 0.57, 0.67, 0.5, 0.56, 0.56, 0.655, 0.595, 0.705, 0.52, 0.55, 0.6, 0.64, 0.68, 0.49, 0.51, 0.55, 0.52, 0.5, 0.55, 0.6, 0.61, 0.61, 0.61, 0.66, 0.57, 0.5, 0.5, 0.59, 0.58, 0.54, 0.58, 0.57, 0.64, 0.56, 0.49, 0.49, 0.67, 0.55, 0.56, 0.52, 0.52, 0.85, 0.51, 0.62, 0.51, 0.53, 0.64, 0.55, 0.49, 0.49, 0.61, 0.545, 0.62, 0.49, 0.5, 0.49, 0.49, 0.55, 0.49, 0.91, 0.53, 0.49, 0.71, 1.005, 0.49, 0.55, 0.55, 0.76, 0.5, 0.93, 0.49, 0.495, 0.695, 0.705, 0.815, 0.56, 0.56, 0.56, 0.51, 0.54, 0.54, 0.5, 0.615, 0.5, 0.52, 0.6, 0.68, 0.655, 0.51, 0.51, 0.615, 0.615, 0.965, 0.74, 0.53, 0.78, 0.68, 0.64, 0.54, 0.75, 0.64, 0.64, 0.655, 0.58, 0.52, 0.53, 0.6, 0.53, 0.58, 0.67, 0.61, 0.73, 0.65, 0.58, 1.1, 0.5, 0.5, 0.5, 0.65, 0.52, 0.55, 0.585, 0.56, 0.555, 0.555, 0.54, 0.61, 0.55, 0.53, 0.66, 0.615, 0.5, 0.62, 0.5, 0.49, 0.51, 0.51, 0.54, 0.61, 0.695, 0.695, 0.63, 0.63, 0.69, 0.69, 0.59, 0.62, 0.785, 0.76, 0.5, 0.54, 0.52, 0.6, 0.54, 0.53]\n",
      "citric acid\n",
      "[0.62, 0.04, 0.59, 0.07, 0.03, 0.61, 0.62, 0.63, 0.61, 0.62, 0.63, 0.66, 0.66, 0.0, 0.04, 0.67, 0.67, 0.04, 0.04, 0.07, 0.88, 0.08, 0.59, 0.07, 0.07, 0.07, 0.07, 0.58, 0.7, 0.0, 0.0, 0.6, 0.07, 0.09, 0.04, 0.62, 0.58, 0.62, 0.7, 0.62, 0.62, 0.58, 0.02, 0.65, 0.65, 0.71, 0.66, 0.66, 0.07, 0.06, 0.07, 0.06, 0.68, 0.68, 0.68, 0.68, 0.06, 0.72, 0.69, 0.58, 0.7, 1.66, 0.04, 0.63, 0.6, 0.0, 0.08, 0.58, 0.58, 0.05, 0.58, 0.0, 0.0, 0.65, 0.58, 0.0, 0.05, 0.05, 0.62, 0.62, 0.58, 0.58, 1.0, 0.09, 0.01, 0.71, 0.71, 0.6, 0.06, 0.74, 0.81, 0.69, 0.58, 0.69, 0.0, 0.07, 0.64, 0.72, 0.73, 0.65, 0.68, 0.65, 0.74, 0.71, 0.59, 0.68, 0.08, 0.72, 0.64, 0.02, 0.74, 0.74, 0.74, 0.74, 0.74, 0.74, 0.74, 0.74, 0.74, 0.74, 0.74, 0.74, 0.74, 0.74, 0.74, 0.74, 0.74, 0.74, 0.74, 0.74, 0.74, 0.99, 0.74, 0.74, 0.74, 0.74, 0.74, 0.74, 0.74, 0.74, 0.74, 0.74, 0.74, 0.74, 0.74, 0.74, 0.01, 0.74, 0.01, 0.74, 0.74, 1.0, 0.04, 0.58, 0.07, 1.0, 0.0, 0.58, 0.61, 0.61, 0.61, 0.02, 0.67, 0.67, 0.67, 0.58, 0.65, 0.58, 0.09, 0.08, 0.71, 0.04, 0.03, 0.05, 0.64, 0.64, 0.58, 0.58, 0.81, 0.58, 0.61, 0.62, 0.59, 0.0, 0.04, 0.63, 0.73, 0.68, 0.09, 0.78, 0.79, 0.09, 0.64, 0.65, 0.65, 0.0, 0.73, 0.73, 0.64, 0.6, 0.71, 0.72, 0.82, 0.07, 0.58, 0.58, 1.0, 0.66, 0.8, 0.8, 1.23, 0.59, 0.02, 0.0, 1.0, 0.62, 0.0, 0.71, 0.71, 0.71, 0.61, 0.61, 0.0, 0.6, 0.58, 0.09, 0.09, 0.72, 0.62, 0.62, 0.79, 0.82, 0.67, 0.01, 0.01, 0.86, 0.61, 0.02, 0.05, 0.0, 0.69, 0.69, 0.59, 0.01, 0.66, 0.66, 0.78, 0.0, 0.04, 0.91, 0.91, 0.06, 0.06, 0.04, 0.04, 0.74, 0.09, 0.09, 0.6, 0.62, 0.73, 0.0, 0.09, 0.0, 0.09, 0.67, 0.01, 0.09, 0.0, 0.02]\n",
      "residual sugar\n",
      "[23.5, 31.6, 31.6, 65.8, 26.05, 26.05, 22.6]\n",
      "chlorides\n",
      "[0.074, 0.08, 0.172, 0.173, 0.147, 0.092, 0.082, 0.092, 0.2, 0.197, 0.197, 0.074, 0.132, 0.089, 0.108, 0.081, 0.073, 0.346, 0.09, 0.114, 0.186, 0.18, 0.084, 0.083, 0.096, 0.094, 0.24, 0.29, 0.185, 0.11, 0.078, 0.13, 0.135, 0.115, 0.072, 0.17, 0.08, 0.119, 0.126, 0.15, 0.152, 0.088, 0.244, 0.137, 0.093, 0.077, 0.079, 0.073, 0.072, 0.076, 0.201, 0.201, 0.074, 0.074, 0.301, 0.138, 0.169, 0.083, 0.093, 0.168, 0.122, 0.172, 0.167, 0.239, 0.076, 0.138, 0.137, 0.123, 0.123, 0.133, 0.073, 0.073, 0.211, 0.123, 0.123, 0.255, 0.204, 0.208, 0.083, 0.08, 0.076, 0.086, 0.084, 0.084, 0.168, 0.16, 0.179, 0.076, 0.076, 0.087, 0.217, 0.094, 0.157, 0.157, 0.148, 0.158, 0.157, 0.168, 0.157, 0.092, 0.099, 0.084, 0.085, 0.091, 0.093, 0.08, 0.095, 0.096, 0.096, 0.147, 0.142, 0.079, 0.074, 0.075, 0.074, 0.121, 0.121, 0.079, 0.079, 0.014, 0.156, 0.012, 0.119, 0.119, 0.081, 0.17, 0.171, 0.082, 0.074, 0.083, 0.083, 0.152, 0.169, 0.073, 0.014, 0.078, 0.112, 0.154, 0.126, 0.126, 0.104, 0.142, 0.102, 0.184, 0.184, 0.096, 0.076, 0.146, 0.117, 0.117, 0.118, 0.014, 0.085, 0.087, 0.085, 0.087, 0.076, 0.088, 0.16, 0.167, 0.014, 0.009, 0.098, 0.098, 0.086, 0.086, 0.194, 0.094, 0.013, 0.144, 0.149, 0.185, 0.084, 0.175, 0.09, 0.098, 0.11, 0.11, 0.095, 0.174, 0.097, 0.142, 0.145, 0.208, 0.209, 0.105, 0.086, 0.176, 0.176, 0.108, 0.096, 0.271, 0.12, 0.212, 0.094, 0.094, 0.117, 0.173, 0.074, 0.076, 0.076, 0.175, 0.174, 0.075, 0.127, 0.127, 0.096, 0.136]\n",
      "free sulfur dioxide\n",
      "[81.0, 82.0, 131.0, 82.5, 87.0, 87.0, 83.0, 122.5, 83.0, 81.0, 88.0, 82.0, 118.5, 81.0, 96.0, 83.0, 83.0, 146.5, 128.0, 110.0, 85.0, 89.0, 86.0, 86.0, 96.0, 96.0, 93.0, 85.0, 81.0, 138.5, 95.0, 124.0, 87.0, 87.0, 105.0, 105.0, 101.0, 101.0, 108.0, 108.0, 98.0, 98.0, 112.0, 108.0, 98.0, 81.0, 81.0, 81.0, 289.0, 97.0]\n",
      "total sulfur dioxide\n",
      "[272.0, 313.0, 260.0, 19.0, 366.5, 307.5, 256.0, 256.0, 344.0, 282.0, 303.0, 272.0, 18.0, 18.0, 294.0, 9.0, 10.0, 259.0, 440.0]\n",
      "density\n",
      "[1.0103, 1.0103, 1.03898, 1.00295, 1.00295]\n",
      "pH\n",
      "[3.69, 3.63, 3.72, 3.61, 3.64, 3.64, 3.72, 3.72, 3.58, 3.58, 3.66, 3.59, 2.74, 3.82, 3.81, 3.65, 3.65, 3.59, 3.77, 3.62, 3.63, 3.58, 3.58, 3.65, 3.74, 2.8, 3.6, 3.6, 2.72, 3.6, 2.79, 2.79, 3.57, 3.8, 3.6, 3.6, 3.68, 3.63, 3.63, 2.77, 3.63, 3.6, 3.6, 3.61, 3.61, 3.59, 3.79, 3.59, 3.68, 3.59, 3.66, 3.7, 3.74, 3.8, 3.57, 3.57, 3.57, 3.65, 3.58, 2.8, 3.77, 3.76, 3.69, 3.66, 3.59, 2.79, 3.75, 3.63, 3.75, 3.76, 3.66, 3.66, 2.8, 3.67, 3.57]\n",
      "sulphates\n",
      "[0.77, 0.84, 0.77, 0.79, 0.85, 0.78, 0.79, 0.79, 0.79, 0.77, 0.78, 0.85, 0.96, 0.97, 0.82, 0.82, 0.77, 0.95, 0.95, 0.77, 0.95, 0.82, 0.82, 0.9, 0.88, 0.88, 0.79, 0.8, 0.8, 0.78, 0.78, 0.87, 0.86, 0.9, 0.9, 0.78, 0.79, 0.81, 0.81, 0.77, 0.82, 0.79, 0.79, 0.77, 0.82, 0.92, 0.79, 0.79, 0.82, 0.82, 0.82, 0.82, 0.82, 0.79, 0.78, 0.79, 0.77, 0.77, 0.77, 0.98, 1.06, 0.88, 0.88, 0.88, 0.8, 0.78, 1.0, 0.8, 0.9, 0.9, 0.89, 0.94, 0.99, 0.86, 0.84, 0.95, 0.84, 0.84, 0.81, 0.8, 0.87, 0.82, 0.78, 0.78, 0.78, 0.78, 0.78, 0.77, 0.85, 0.78, 0.78, 0.88, 0.88, 0.78, 0.78, 0.78, 0.78, 0.79, 0.77, 0.77, 0.83, 0.83, 0.81, 0.81, 0.98, 0.98, 0.98, 0.98, 0.79, 0.79, 0.78, 0.82, 0.98, 0.77, 0.96, 1.01, 0.77, 0.96, 0.77, 0.92, 0.94, 0.95, 1.08, 0.79]\n",
      "alcohol\n",
      "[]\n",
      "Total:  1063\n"
     ]
    }
   ],
   "source": [
    "count = 0\n",
    "for name in list(df.iloc[:, :-1]):\n",
    "    print(name)\n",
    "    outliers = iqr_outliers(df[name])\n",
    "    print(outliers)\n",
    "    count += len(outliers)\n",
    "print('Total: ', count)"
   ]
  },
  {
   "cell_type": "code",
   "execution_count": 56,
   "id": "9491ef14",
   "metadata": {},
   "outputs": [
    {
     "data": {
      "text/plain": [
       "<AxesSubplot:>"
      ]
     },
     "execution_count": 56,
     "metadata": {},
     "output_type": "execute_result"
    },
    {
     "data": {
      "image/png": "[encoded data removed]",
      "text/plain": [
       "<Figure size 1440x720 with 1 Axes>"
      ]
     },
     "metadata": {
      "needs_background": "light"
     },
     "output_type": "display_data"
    }
   ],
   "source": [
    "fig = plt.figure(figsize = (20,10))\n",
    "df.boxplot(column=['fixed acidity'], grid=False)"
   ]
  },
  {
   "cell_type": "markdown",
   "id": "2c3f4077",
   "metadata": {},
   "source": [
    "#### Detect features and target"
   ]
  },
  {
   "cell_type": "code",
   "execution_count": 57,
   "id": "7b7e35d1",
   "metadata": {},
   "outputs": [],
   "source": [
    "bins = (1, 4.5, 7.5, 10)\n",
    "group_names = ['bad', 'good', 'high']\n",
    "df['quality'] = pd.cut(df['quality'], bins = bins, labels = group_names)"
   ]
  },
  {
   "cell_type": "code",
   "execution_count": 58,
   "id": "13ca1e4d",
   "metadata": {},
   "outputs": [
    {
     "data": {
      "text/plain": [
       "good    4535\n",
       "bad      183\n",
       "high     181\n",
       "Name: quality, dtype: int64"
      ]
     },
     "execution_count": 58,
     "metadata": {},
     "output_type": "execute_result"
    }
   ],
   "source": [
    "df['quality'].value_counts()"
   ]
  },
  {
   "cell_type": "code",
   "execution_count": 59,
   "id": "75a7f5e9",
   "metadata": {},
   "outputs": [],
   "source": [
    "label_quality = LabelEncoder()\n",
    "df['quality'] = label_quality.fit_transform(df['quality'])"
   ]
  },
  {
   "cell_type": "code",
   "execution_count": 60,
   "id": "1d24abf7",
   "metadata": {},
   "outputs": [
    {
     "data": {
      "text/plain": [
       "array([[<AxesSubplot:title={'center':'quality'}>]], dtype=object)"
      ]
     },
     "execution_count": 60,
     "metadata": {},
     "output_type": "execute_result"
    },
    {
     "data": {
      "image/png": "[encoded data removed]",
      "text/plain": [
       "<Figure size 432x288 with 1 Axes>"
      ]
     },
     "metadata": {
      "needs_background": "light"
     },
     "output_type": "display_data"
    }
   ],
   "source": [
    "df.hist(column='quality', bins=50)"
   ]
  },
  {
   "cell_type": "code",
   "execution_count": 61,
   "id": "af60d36d",
   "metadata": {},
   "outputs": [
    {
     "name": "stdout",
     "output_type": "stream",
     "text": [
      "(4899, 11)\n",
      "(4899,)\n"
     ]
    }
   ],
   "source": [
    "X = df.iloc[:, :-1]\n",
    "y = df.iloc[:, -1]\n",
    "\n",
    "print(X.shape)\n",
    "print(y.shape)"
   ]
  },
  {
   "cell_type": "markdown",
   "id": "97d0a9c1",
   "metadata": {},
   "source": [
    "#### Preprocessing"
   ]
  },
  {
   "cell_type": "code",
   "execution_count": 62,
   "id": "2c4ac913",
   "metadata": {},
   "outputs": [],
   "source": [
    "scaler = RobustScaler()\n",
    "X = scaler.fit_transform(X)"
   ]
  },
  {
   "cell_type": "code",
   "execution_count": 63,
   "id": "f7390950",
   "metadata": {},
   "outputs": [
    {
     "name": "stdout",
     "output_type": "stream",
     "text": [
      "(12407, 11)\n",
      "(12407,)\n"
     ]
    },
    {
     "data": {
      "text/plain": [
       "<AxesSubplot:>"
      ]
     },
     "execution_count": 63,
     "metadata": {},
     "output_type": "execute_result"
    },
    {
     "data": {
      "image/png": "[encoded data removed]",
      "text/plain": [
       "<Figure size 432x288 with 1 Axes>"
      ]
     },
     "metadata": {
      "needs_background": "light"
     },
     "output_type": "display_data"
    }
   ],
   "source": [
    "from imblearn.over_sampling import SMOTE\n",
    "from imblearn.combine import SMOTEENN, SMOTETomek\n",
    "from imblearn.under_sampling import RandomUnderSampler\n",
    "from imblearn.pipeline import Pipeline\n",
    "\n",
    "# Balance dataset\n",
    "over = SMOTEENN()\n",
    "\n",
    "X, y = over.fit_resample(X, y)\n",
    "print(X.shape)\n",
    "print(y.shape)\n",
    "y.hist(bins=25)"
   ]
  },
  {
   "cell_type": "code",
   "execution_count": 64,
   "id": "9cab8717",
   "metadata": {},
   "outputs": [],
   "source": [
    "balanced_scaled_df = pd.DataFrame(X, columns = [name for name in list(df.iloc[:, :-1])])"
   ]
  },
  {
   "cell_type": "code",
   "execution_count": 65,
   "id": "dc7d907b",
   "metadata": {},
   "outputs": [
    {
     "name": "stdout",
     "output_type": "stream",
     "text": [
      "fixed acidity\n",
      "volatile acidity\n",
      "citric acid\n",
      "residual sugar\n",
      "chlorides\n",
      "free sulfur dioxide\n",
      "total sulfur dioxide\n",
      "density\n",
      "pH\n",
      "sulphates\n",
      "alcohol\n",
      "Total:  3707\n"
     ]
    }
   ],
   "source": [
    "count = 0\n",
    "for name in list(df.iloc[:, :-1]):\n",
    "    print(name)\n",
    "    outliers = iqr_outliers(balanced_scaled_df[name])\n",
    "    count += len(outliers)\n",
    "print('Total: ', count)"
   ]
  },
  {
   "cell_type": "code",
   "execution_count": null,
   "id": "0cdf515b",
   "metadata": {},
   "outputs": [],
   "source": []
  },
  {
   "cell_type": "markdown",
   "id": "8f3e4700",
   "metadata": {},
   "source": [
    "### Feature selection "
   ]
  },
  {
   "cell_type": "markdown",
   "id": "d8d04b10",
   "metadata": {},
   "source": [
    "#### By correlation "
   ]
  },
  {
   "cell_type": "code",
   "execution_count": 66,
   "id": "400b8049",
   "metadata": {},
   "outputs": [
    {
     "data": {
      "text/plain": [
       "<AxesSubplot:>"
      ]
     },
     "execution_count": 66,
     "metadata": {},
     "output_type": "execute_result"
    },
    {
     "data": {
      "image/png": "[encoded data removed]",
      "text/plain": [
       "<Figure size 1080x720 with 2 Axes>"
      ]
     },
     "metadata": {
      "needs_background": "light"
     },
     "output_type": "display_data"
    }
   ],
   "source": [
    "corr = balanced_scaled_df.corr()\n",
    "plt.subplots(figsize=(15,10))\n",
    "sns.heatmap(corr, xticklabels=corr.columns, yticklabels=corr.columns, annot=True, cmap=sns.diverging_palette(220, 20, as_cmap=True))"
   ]
  },
  {
   "cell_type": "code",
   "execution_count": 67,
   "id": "933354e5",
   "metadata": {},
   "outputs": [
    {
     "name": "stdout",
     "output_type": "stream",
     "text": [
      "Index(['fixed acidity', 'volatile acidity', 'citric acid', 'residual sugar',\n",
      "       'chlorides', 'free sulfur dioxide', 'total sulfur dioxide', 'density',\n",
      "       'pH', 'sulphates'],\n",
      "      dtype='object')\n"
     ]
    }
   ],
   "source": [
    "columns = np.full((corr.shape[0],), True, dtype=bool)\n",
    "for i in range(corr.shape[0]):\n",
    "    for j in range(i + 1, corr.shape[0]):\n",
    "        if abs(corr.iloc[i, j]) >= 0.8:\n",
    "            if columns[j]:\n",
    "                columns[j] = False\n",
    "selected_columns = balanced_scaled_df.columns[columns]\n",
    "print(selected_columns)"
   ]
  },
  {
   "cell_type": "code",
   "execution_count": 68,
   "id": "50ad2171",
   "metadata": {},
   "outputs": [],
   "source": [
    "reduced_df = balanced_scaled_df[selected_columns]"
   ]
  },
  {
   "cell_type": "code",
   "execution_count": 69,
   "id": "cea4f572",
   "metadata": {},
   "outputs": [
    {
     "data": {
      "text/html": [
       "<div>\n",
       "<style scoped>\n",
       "    .dataframe tbody tr th:only-of-type {\n",
       "        vertical-align: middle;\n",
       "    }\n",
       "\n",
       "    .dataframe tbody tr th {\n",
       "        vertical-align: top;\n",
       "    }\n",
       "\n",
       "    .dataframe thead th {\n",
       "        text-align: right;\n",
       "    }\n",
       "</style>\n",
       "<table border=\"1\" class=\"dataframe\">\n",
       "  <thead>\n",
       "    <tr style=\"text-align: right;\">\n",
       "      <th></th>\n",
       "      <th>fixed acidity</th>\n",
       "      <th>volatile acidity</th>\n",
       "      <th>citric acid</th>\n",
       "      <th>residual sugar</th>\n",
       "      <th>chlorides</th>\n",
       "      <th>free sulfur dioxide</th>\n",
       "      <th>total sulfur dioxide</th>\n",
       "      <th>density</th>\n",
       "      <th>pH</th>\n",
       "      <th>sulphates</th>\n",
       "    </tr>\n",
       "  </thead>\n",
       "  <tbody>\n",
       "    <tr>\n",
       "      <th>0</th>\n",
       "      <td>-0.6</td>\n",
       "      <td>1.727273</td>\n",
       "      <td>-0.500000</td>\n",
       "      <td>-0.097561</td>\n",
       "      <td>1.428571</td>\n",
       "      <td>1.260870</td>\n",
       "      <td>1.220339</td>\n",
       "      <td>0.059361</td>\n",
       "      <td>0.473684</td>\n",
       "      <td>0.357143</td>\n",
       "    </tr>\n",
       "    <tr>\n",
       "      <th>1</th>\n",
       "      <td>3.0</td>\n",
       "      <td>0.909091</td>\n",
       "      <td>1.166667</td>\n",
       "      <td>0.646341</td>\n",
       "      <td>-0.357143</td>\n",
       "      <td>-1.304348</td>\n",
       "      <td>-0.864407</td>\n",
       "      <td>0.424658</td>\n",
       "      <td>-1.526316</td>\n",
       "      <td>-1.214286</td>\n",
       "    </tr>\n",
       "    <tr>\n",
       "      <th>2</th>\n",
       "      <td>-1.3</td>\n",
       "      <td>2.045455</td>\n",
       "      <td>-2.666667</td>\n",
       "      <td>-0.451220</td>\n",
       "      <td>1.571429</td>\n",
       "      <td>-1.130435</td>\n",
       "      <td>-0.525424</td>\n",
       "      <td>0.059361</td>\n",
       "      <td>2.368421</td>\n",
       "      <td>-0.500000</td>\n",
       "    </tr>\n",
       "    <tr>\n",
       "      <th>3</th>\n",
       "      <td>-0.4</td>\n",
       "      <td>3.045455</td>\n",
       "      <td>-1.500000</td>\n",
       "      <td>0.000000</td>\n",
       "      <td>1.071429</td>\n",
       "      <td>-0.826087</td>\n",
       "      <td>-0.627119</td>\n",
       "      <td>0.310502</td>\n",
       "      <td>1.052632</td>\n",
       "      <td>-0.785714</td>\n",
       "    </tr>\n",
       "    <tr>\n",
       "      <th>4</th>\n",
       "      <td>0.8</td>\n",
       "      <td>2.000000</td>\n",
       "      <td>0.416667</td>\n",
       "      <td>-0.536585</td>\n",
       "      <td>-0.428571</td>\n",
       "      <td>-1.304348</td>\n",
       "      <td>-0.576271</td>\n",
       "      <td>-0.808219</td>\n",
       "      <td>-0.789474</td>\n",
       "      <td>-0.571429</td>\n",
       "    </tr>\n",
       "  </tbody>\n",
       "</table>\n",
       "</div>"
      ],
      "text/plain": [
       "   fixed acidity  volatile acidity  citric acid  residual sugar  chlorides  \\\n",
       "0           -0.6          1.727273    -0.500000       -0.097561   1.428571   \n",
       "1            3.0          0.909091     1.166667        0.646341  -0.357143   \n",
       "2           -1.3          2.045455    -2.666667       -0.451220   1.571429   \n",
       "3           -0.4          3.045455    -1.500000        0.000000   1.071429   \n",
       "4            0.8          2.000000     0.416667       -0.536585  -0.428571   \n",
       "\n",
       "   free sulfur dioxide  total sulfur dioxide   density        pH  sulphates  \n",
       "0             1.260870              1.220339  0.059361  0.473684   0.357143  \n",
       "1            -1.304348             -0.864407  0.424658 -1.526316  -1.214286  \n",
       "2            -1.130435             -0.525424  0.059361  2.368421  -0.500000  \n",
       "3            -0.826087             -0.627119  0.310502  1.052632  -0.785714  \n",
       "4            -1.304348             -0.576271 -0.808219 -0.789474  -0.571429  "
      ]
     },
     "execution_count": 69,
     "metadata": {},
     "output_type": "execute_result"
    }
   ],
   "source": [
    "reduced_df.head()"
   ]
  },
  {
   "cell_type": "code",
   "execution_count": 70,
   "id": "9e531143",
   "metadata": {},
   "outputs": [
    {
     "name": "stdout",
     "output_type": "stream",
     "text": [
      "(12407, 10)\n"
     ]
    }
   ],
   "source": [
    "X = reduced_df.iloc[:, :].values\n",
    "print(X.shape)"
   ]
  },
  {
   "cell_type": "code",
   "execution_count": null,
   "id": "79e411b0",
   "metadata": {},
   "outputs": [],
   "source": []
  },
  {
   "cell_type": "markdown",
   "id": "8873c882",
   "metadata": {},
   "source": [
    "#### Split data in train and test "
   ]
  },
  {
   "cell_type": "code",
   "execution_count": 71,
   "id": "530ca8ea",
   "metadata": {},
   "outputs": [],
   "source": [
    "X_train, X_test, y_train, y_test = train_test_split(X, y, test_size=0.2, random_state=seed)"
   ]
  },
  {
   "cell_type": "code",
   "execution_count": 73,
   "id": "fe1b8a10",
   "metadata": {},
   "outputs": [
    {
     "data": {
      "text/plain": [
       "array([[-0.1       ,  0.18181818,  0.16666667,  0.45121951,  0.35714286,\n",
       "        -0.08695652, -0.38983051,  0.18493151,  0.36842105,  0.5       ],\n",
       "       [ 0.12871704,  0.99981468, -0.01188049,  0.52637745,  0.15304042,\n",
       "        -0.05569804,  0.03628013, -0.16155622, -0.42866339, -0.98981672],\n",
       "       [-0.6       ,  1.        , -0.66666667,  0.1097561 , -0.78571429,\n",
       "        -0.65217391, -0.81355932, -1.00456621, -0.73684211, -1.5       ],\n",
       "       [ 0.0694087 , -0.11058657, -1.14490145, -0.3832403 ,  0.21428571,\n",
       "        -1.12102382, -0.99014416,  0.14880682,  0.8739277 , -0.22387079],\n",
       "       [ 0.3       , -0.54545455, -0.08333333,  0.26829268,  0.71428571,\n",
       "        -0.08695652,  1.30508475,  0.48630137,  0.68421053,  0.85714286]])"
      ]
     },
     "execution_count": 73,
     "metadata": {},
     "output_type": "execute_result"
    }
   ],
   "source": [
    "X_test[:5]"
   ]
  },
  {
   "cell_type": "code",
   "execution_count": 74,
   "id": "25a03bc4",
   "metadata": {},
   "outputs": [
    {
     "data": {
      "text/plain": [
       "7193     1\n",
       "8266     2\n",
       "10292    2\n",
       "2008     0\n",
       "6367     1\n",
       "Name: quality, dtype: int64"
      ]
     },
     "execution_count": 74,
     "metadata": {},
     "output_type": "execute_result"
    }
   ],
   "source": [
    "y_test[:5]"
   ]
  },
  {
   "cell_type": "code",
   "execution_count": 75,
   "id": "7a6e3e18",
   "metadata": {},
   "outputs": [
    {
     "name": "stdout",
     "output_type": "stream",
     "text": [
      "Train set: (9925, 10) (9925,)\n",
      "Test set: (2482, 10) (2482,)\n"
     ]
    }
   ],
   "source": [
    "print ('Train set:', X_train.shape, y_train.shape)\n",
    "print ('Test set:', X_test.shape, y_test.shape)"
   ]
  },
  {
   "cell_type": "code",
   "execution_count": null,
   "id": "400aa84a",
   "metadata": {},
   "outputs": [],
   "source": []
  },
  {
   "cell_type": "markdown",
   "id": "b0e1bca7",
   "metadata": {},
   "source": [
    "#### Util functions "
   ]
  },
  {
   "cell_type": "code",
   "execution_count": 76,
   "id": "c23492d6",
   "metadata": {},
   "outputs": [],
   "source": [
    "all_cross = {}\n",
    "\n",
    "def print_cros_val_score(model, model_name=''):\n",
    "    scores = cross_val_score(model, X, y, cv=5, n_jobs = -1)\n",
    "    print(scores.mean())\n",
    "    if model_name != '':\n",
    "        all_cross[model_name]['Cross value mean'] = scores.mean()"
   ]
  },
  {
   "cell_type": "code",
   "execution_count": 77,
   "id": "df03fcf5",
   "metadata": {},
   "outputs": [],
   "source": [
    "all_metrics = {}\n",
    "def print_metrics(y_pred, model_name=''):\n",
    "\n",
    "    confusion_mat = metrics.confusion_matrix(y_test, y_pred)\n",
    "    print(\"Confusion matrix is : \", confusion_mat)\n",
    "    \n",
    "    acc =  metrics.accuracy_score(y_test, y_pred)\n",
    "    print(\"Accuracy:\", acc)\n",
    "    \n",
    "    recall = metrics.recall_score(y_test, y_pred, average='weighted')\n",
    "    print(\"Recall_score is :\", recall)\n",
    "    \n",
    "    precision = metrics.precision_score(y_test, y_pred, average='weighted')\n",
    "    print(\"Precision Score is : \", precision)\n",
    "    \n",
    "    f1 = 2 * (recall * precision) / (recall + precision)\n",
    "    print(\"F1 score is: \", f1)\n",
    "    \n",
    "    jacc = metrics.jaccard_score(y_test, y_pred, average='weighted')\n",
    "    print(\"Jaccard: \", jacc)\n",
    "    \n",
    "    all_metrics[model_name] = {}\n",
    "    all_metrics[model_name]['Accuracy'] = acc\n",
    "    all_metrics[model_name]['Recall_score'] = recall\n",
    "    all_metrics[model_name]['Precision'] = precision\n",
    "    all_metrics[model_name]['F1'] = f1\n",
    "    all_metrics[model_name]['Jaccard'] = jacc\n",
    "    \n",
    "    "
   ]
  },
  {
   "cell_type": "code",
   "execution_count": 85,
   "id": "a338e71a",
   "metadata": {},
   "outputs": [],
   "source": [
    "test_cases = [\n",
    "    [-0.1       ,  0.18181818,  0.16666667,  0.45121951,  0.35714286,\n",
    "        -0.08695652, -0.38983051,  0.18493151,  0.36842105,  0.5       ],\n",
    "       [ 0.12871704,  0.99981468, -0.01188049,  0.52637745,  0.15304042,\n",
    "        -0.05569804,  0.03628013, -0.16155622, -0.42866339, -0.98981672],\n",
    "       [-0.6       ,  1.        , -0.66666667,  0.1097561 , -0.78571429,\n",
    "        -0.65217391, -0.81355932, -1.00456621, -0.73684211, -1.5       ],\n",
    "]\n",
    "expected = [1, 1, 2]\n",
    "\n",
    "def test_prediction(model):\n",
    "    y_prediction_test = model.predict(test_cases)\n",
    "    print(\"Predicted: \", y_prediction_test)\n",
    "    print(\"Expected: \", expected)"
   ]
  },
  {
   "cell_type": "code",
   "execution_count": 79,
   "id": "99ea7884",
   "metadata": {},
   "outputs": [],
   "source": [
    "def get_best_params(model, param):\n",
    "    grid_svc = GridSearchCV(model, param_grid=param, scoring='accuracy', cv=10)\n",
    "    grid_svc.fit(X_train, y_train)\n",
    "    best = grid_svc.best_params_\n",
    "    return best"
   ]
  },
  {
   "cell_type": "markdown",
   "id": "633677a4",
   "metadata": {},
   "source": [
    "# K nearest neighbor (KNN)"
   ]
  },
  {
   "cell_type": "code",
   "execution_count": 34,
   "id": "65254e65",
   "metadata": {},
   "outputs": [
    {
     "data": {
      "text/plain": [
       "{'n_neighbors': 1}"
      ]
     },
     "execution_count": 34,
     "metadata": {},
     "output_type": "execute_result"
    }
   ],
   "source": [
    "from sklearn.neighbors import KNeighborsClassifier\n",
    "param = {\n",
    "    'n_neighbors': [1, 2, 5, 8, 12, 20, 50],\n",
    "}\n",
    "get_best_params(KNeighborsClassifier(), param)"
   ]
  },
  {
   "cell_type": "code",
   "execution_count": 80,
   "id": "bcd42c7f",
   "metadata": {},
   "outputs": [
    {
     "data": {
      "text/plain": [
       "KNeighborsClassifier(n_neighbors=1)"
      ]
     },
     "execution_count": 80,
     "metadata": {},
     "output_type": "execute_result"
    }
   ],
   "source": [
    "from sklearn.neighbors import KNeighborsClassifier\n",
    "k = 1\n",
    "neigh = KNeighborsClassifier(n_neighbors=k, p=2, metric='minkowski')\n",
    "neigh.fit(X_train, y_train)\n"
   ]
  },
  {
   "cell_type": "code",
   "execution_count": 81,
   "id": "30f5ae6c",
   "metadata": {},
   "outputs": [
    {
     "name": "stdout",
     "output_type": "stream",
     "text": [
      "0.9694549161865471\n"
     ]
    }
   ],
   "source": [
    "print_cros_val_score(neigh)"
   ]
  },
  {
   "cell_type": "code",
   "execution_count": 82,
   "id": "7edbda47",
   "metadata": {},
   "outputs": [],
   "source": [
    "y_pred = neigh.predict(X_test)"
   ]
  },
  {
   "cell_type": "code",
   "execution_count": 83,
   "id": "9378d5b4",
   "metadata": {},
   "outputs": [
    {
     "name": "stdout",
     "output_type": "stream",
     "text": [
      "Confusion matrix is :  [[947   0   0]\n",
      " [  8 611   9]\n",
      " [  0   0 907]]\n",
      "Accuracy: 0.9931506849315068\n",
      "Recall_score is : 0.9931506849315068\n",
      "Precision Score is :  0.9932133133176488\n",
      "F1 score is:  0.9931819981372677\n",
      "Jaccard:  0.9863639982491557\n"
     ]
    }
   ],
   "source": [
    "print_metrics(y_pred, 'KNN')"
   ]
  },
  {
   "cell_type": "code",
   "execution_count": 86,
   "id": "2816a48e",
   "metadata": {},
   "outputs": [
    {
     "name": "stdout",
     "output_type": "stream",
     "text": [
      "Predicted:  [1 2 2]\n",
      "Expected:  [1, 1, 2]\n"
     ]
    }
   ],
   "source": [
    "test_prediction(neigh)"
   ]
  },
  {
   "cell_type": "code",
   "execution_count": null,
   "id": "431b83b1",
   "metadata": {},
   "outputs": [],
   "source": []
  },
  {
   "cell_type": "markdown",
   "id": "12f96a97",
   "metadata": {},
   "source": [
    "# SVM"
   ]
  },
  {
   "cell_type": "code",
   "execution_count": 40,
   "id": "79df17a7",
   "metadata": {},
   "outputs": [
    {
     "data": {
      "text/plain": [
       "{'C': 1.2, 'gamma': 1.2}"
      ]
     },
     "execution_count": 40,
     "metadata": {},
     "output_type": "execute_result"
    }
   ],
   "source": [
    "from sklearn.svm import SVC\n",
    "\n",
    "param = {\n",
    "    'C': [1, 1.2],\n",
    "    'gamma' :[0.9, 1.2]\n",
    "}\n",
    "get_best_params(SVC(), param)"
   ]
  },
  {
   "cell_type": "code",
   "execution_count": 88,
   "id": "0a4d34a4",
   "metadata": {},
   "outputs": [
    {
     "data": {
      "text/plain": [
       "SVC(C=1.2, gamma=1.2)"
      ]
     },
     "execution_count": 88,
     "metadata": {},
     "output_type": "execute_result"
    }
   ],
   "source": [
    "from sklearn.svm import SVC\n",
    "\n",
    "svc = SVC(C=1.2, gamma=1.2, kernel='rbf')\n",
    "svc.fit(X_train, y_train)"
   ]
  },
  {
   "cell_type": "code",
   "execution_count": 42,
   "id": "df5cdc67",
   "metadata": {},
   "outputs": [
    {
     "name": "stdout",
     "output_type": "stream",
     "text": [
      "0.9924951188042511\n"
     ]
    }
   ],
   "source": [
    "print_cros_val_score(svc)"
   ]
  },
  {
   "cell_type": "code",
   "execution_count": 90,
   "id": "dfd5de61",
   "metadata": {},
   "outputs": [],
   "source": [
    "y_pred = svc.predict(X_test)"
   ]
  },
  {
   "cell_type": "code",
   "execution_count": 91,
   "id": "7bd823cf",
   "metadata": {},
   "outputs": [
    {
     "name": "stdout",
     "output_type": "stream",
     "text": [
      "Confusion matrix is :  [[934   2   0]\n",
      " [  1 644   4]\n",
      " [  0   0 894]]\n",
      "Accuracy: 0.9971762807583703\n",
      "Recall_score is : 0.9971762807583703\n",
      "Precision Score is :  0.9971792900070692\n",
      "F1 score is:  0.9971777853804494\n",
      "Jaccard:  0.9943697153916334\n"
     ]
    }
   ],
   "source": [
    "print_metrics(y_pred, 'SVC')"
   ]
  },
  {
   "cell_type": "code",
   "execution_count": 89,
   "id": "68ab6f5d",
   "metadata": {},
   "outputs": [
    {
     "name": "stdout",
     "output_type": "stream",
     "text": [
      "Predicted:  [1 2 2]\n",
      "Expected:  [1, 1, 2]\n"
     ]
    }
   ],
   "source": [
    "test_prediction(svc)"
   ]
  },
  {
   "cell_type": "code",
   "execution_count": null,
   "id": "2594d738",
   "metadata": {},
   "outputs": [],
   "source": []
  },
  {
   "cell_type": "code",
   "execution_count": 47,
   "id": "e95d1444",
   "metadata": {},
   "outputs": [
    {
     "data": {
      "text/plain": [
       "{'gamma': 1.5, 'nu': 0.2}"
      ]
     },
     "execution_count": 47,
     "metadata": {},
     "output_type": "execute_result"
    }
   ],
   "source": [
    "from sklearn.svm import NuSVC\n",
    "\n",
    "param = {\n",
    "    'nu': [0.2, 0.5, 0.8],\n",
    "    'gamma' :[0.1, 1, 1.5]\n",
    "}\n",
    "get_best_params(NuSVC(), param)"
   ]
  },
  {
   "cell_type": "code",
   "execution_count": 90,
   "id": "cd2bfded",
   "metadata": {},
   "outputs": [
    {
     "data": {
      "text/plain": [
       "NuSVC(gamma=1.5, nu=0.2)"
      ]
     },
     "execution_count": 90,
     "metadata": {},
     "output_type": "execute_result"
    }
   ],
   "source": [
    "from sklearn.svm import NuSVC\n",
    "\n",
    "nuSvc = NuSVC(gamma=1.5, nu=0.2)\n",
    "nuSvc.fit(X_train, y_train)"
   ]
  },
  {
   "cell_type": "code",
   "execution_count": 49,
   "id": "fc895743",
   "metadata": {},
   "outputs": [
    {
     "name": "stdout",
     "output_type": "stream",
     "text": [
      "0.9919300168225036\n"
     ]
    }
   ],
   "source": [
    "print_cros_val_score(nuSvc)"
   ]
  },
  {
   "cell_type": "code",
   "execution_count": 92,
   "id": "c819f137",
   "metadata": {},
   "outputs": [],
   "source": [
    "y_pred = nuSvc.predict(X_test)"
   ]
  },
  {
   "cell_type": "code",
   "execution_count": 93,
   "id": "db27f770",
   "metadata": {},
   "outputs": [
    {
     "name": "stdout",
     "output_type": "stream",
     "text": [
      "Confusion matrix is :  [[930   6   0]\n",
      " [  0 645   4]\n",
      " [  0   0 894]]\n",
      "Accuracy: 0.9959661153691004\n",
      "Recall_score is : 0.9959661153691004\n",
      "Precision Score is :  0.9959807384234213\n",
      "F1 score is:  0.9959734268425864\n",
      "Jaccard:  0.9919763696754227\n"
     ]
    }
   ],
   "source": [
    "print_metrics(y_pred, 'NuSVC')"
   ]
  },
  {
   "cell_type": "code",
   "execution_count": 91,
   "id": "f372e2b2",
   "metadata": {},
   "outputs": [
    {
     "name": "stdout",
     "output_type": "stream",
     "text": [
      "Predicted:  [1 2 2]\n",
      "Expected:  [1, 1, 2]\n"
     ]
    }
   ],
   "source": [
    "test_prediction(nuSvc)"
   ]
  },
  {
   "cell_type": "code",
   "execution_count": null,
   "id": "cc69989d",
   "metadata": {},
   "outputs": [],
   "source": []
  },
  {
   "cell_type": "markdown",
   "id": "e701ee94",
   "metadata": {},
   "source": [
    "# Bagging"
   ]
  },
  {
   "cell_type": "markdown",
   "id": "c9d9bc08",
   "metadata": {},
   "source": [
    "## Random Forest Classifier"
   ]
  },
  {
   "cell_type": "code",
   "execution_count": 53,
   "id": "309cf994",
   "metadata": {},
   "outputs": [
    {
     "data": {
      "text/plain": [
       "{'max_features': 'sqrt', 'n_estimators': 200}"
      ]
     },
     "execution_count": 53,
     "metadata": {},
     "output_type": "execute_result"
    }
   ],
   "source": [
    "from sklearn.ensemble import RandomForestClassifier\n",
    "\n",
    "param = {\n",
    "    'n_estimators': [50, 100, 200],\n",
    "    'max_features' :['sqrt', 'log2', None]\n",
    "}\n",
    "get_best_params(RandomForestClassifier(), param)"
   ]
  },
  {
   "cell_type": "code",
   "execution_count": 92,
   "id": "70c0db73",
   "metadata": {},
   "outputs": [
    {
     "data": {
      "text/plain": [
       "RandomForestClassifier(max_features='sqrt', n_estimators=200)"
      ]
     },
     "execution_count": 92,
     "metadata": {},
     "output_type": "execute_result"
    }
   ],
   "source": [
    "from sklearn.ensemble import RandomForestClassifier\n",
    "\n",
    "n_estimators = 200\n",
    "max_features = 'sqrt'\n",
    "rf = RandomForestClassifier(n_estimators=n_estimators, max_features=max_features)\n",
    "rf.fit(X_train, y_train)"
   ]
  },
  {
   "cell_type": "code",
   "execution_count": 55,
   "id": "83f49c15",
   "metadata": {},
   "outputs": [
    {
     "name": "stdout",
     "output_type": "stream",
     "text": [
      "0.9659430418094723\n"
     ]
    }
   ],
   "source": [
    "print_cros_val_score(rf)"
   ]
  },
  {
   "cell_type": "code",
   "execution_count": 94,
   "id": "33ce57f4",
   "metadata": {},
   "outputs": [],
   "source": [
    "y_pred = rf.predict(X_test)"
   ]
  },
  {
   "cell_type": "code",
   "execution_count": 95,
   "id": "45802a6e",
   "metadata": {},
   "outputs": [
    {
     "name": "stdout",
     "output_type": "stream",
     "text": [
      "Confusion matrix is :  [[925  11   0]\n",
      " [ 20 610  19]\n",
      " [  2   1 891]]\n",
      "Accuracy: 0.9786204114562324\n",
      "Recall_score is : 0.9786204114562324\n",
      "Precision Score is :  0.9786481280496653\n",
      "F1 score is:  0.9786342695567035\n",
      "Jaccard:  0.9581046914196942\n"
     ]
    }
   ],
   "source": [
    "print_metrics(y_pred, 'RandomForestClassifier')"
   ]
  },
  {
   "cell_type": "code",
   "execution_count": 93,
   "id": "f0423061",
   "metadata": {},
   "outputs": [
    {
     "name": "stdout",
     "output_type": "stream",
     "text": [
      "Predicted:  [1 2 2]\n",
      "Expected:  [1, 1, 2]\n"
     ]
    }
   ],
   "source": [
    "test_prediction(rf)"
   ]
  },
  {
   "cell_type": "markdown",
   "id": "85046b7f",
   "metadata": {},
   "source": [
    "## Extra Trees "
   ]
  },
  {
   "cell_type": "code",
   "execution_count": 59,
   "id": "9f318e0f",
   "metadata": {},
   "outputs": [
    {
     "data": {
      "text/plain": [
       "{'max_features': 'log2', 'n_estimators': 200}"
      ]
     },
     "execution_count": 59,
     "metadata": {},
     "output_type": "execute_result"
    }
   ],
   "source": [
    "from sklearn.ensemble import ExtraTreesClassifier\n",
    "\n",
    "param = {\n",
    "    'n_estimators': [50, 100, 200],\n",
    "    'max_features' :['sqrt', 'log2', None]\n",
    "}\n",
    "get_best_params(ExtraTreesClassifier(), param)"
   ]
  },
  {
   "cell_type": "code",
   "execution_count": 94,
   "id": "a166ecef",
   "metadata": {},
   "outputs": [
    {
     "data": {
      "text/plain": [
       "ExtraTreesClassifier(max_features='log2', n_estimators=200, random_state=33)"
      ]
     },
     "execution_count": 94,
     "metadata": {},
     "output_type": "execute_result"
    }
   ],
   "source": [
    "from sklearn.ensemble import ExtraTreesClassifier\n",
    "\n",
    "\n",
    "n_estimators = 200\n",
    "max_features = 'log2'\n",
    "et = ExtraTreesClassifier(n_estimators=n_estimators, max_features=max_features, random_state=seed)\n",
    "et.fit(X_train, y_train)"
   ]
  },
  {
   "cell_type": "code",
   "execution_count": 61,
   "id": "ccbea098",
   "metadata": {},
   "outputs": [
    {
     "name": "stdout",
     "output_type": "stream",
     "text": [
      "0.9763538175883231\n"
     ]
    }
   ],
   "source": [
    "print_cros_val_score(et)"
   ]
  },
  {
   "cell_type": "code",
   "execution_count": 96,
   "id": "e2619c25",
   "metadata": {},
   "outputs": [],
   "source": [
    "y_pred = et.predict(X_test)"
   ]
  },
  {
   "cell_type": "code",
   "execution_count": 97,
   "id": "0bc5a3bc",
   "metadata": {},
   "outputs": [
    {
     "name": "stdout",
     "output_type": "stream",
     "text": [
      "Confusion matrix is :  [[931   5   0]\n",
      " [ 12 625  12]\n",
      " [  0   0 894]]\n",
      "Accuracy: 0.9883017345703913\n",
      "Recall_score is : 0.9883017345703913\n",
      "Precision Score is :  0.988340953674494\n",
      "F1 score is:  0.9883213437333642\n",
      "Jaccard:  0.9768438252557464\n"
     ]
    }
   ],
   "source": [
    "print_metrics(y_pred, 'ExtraTreesClassifier')"
   ]
  },
  {
   "cell_type": "code",
   "execution_count": 95,
   "id": "b9a066da",
   "metadata": {},
   "outputs": [
    {
     "name": "stdout",
     "output_type": "stream",
     "text": [
      "Predicted:  [1 2 2]\n",
      "Expected:  [1, 1, 2]\n"
     ]
    }
   ],
   "source": [
    "test_prediction(et)"
   ]
  },
  {
   "cell_type": "markdown",
   "id": "3273ad3d",
   "metadata": {},
   "source": [
    "# Boosting"
   ]
  },
  {
   "cell_type": "markdown",
   "id": "1f778265",
   "metadata": {},
   "source": [
    "## AdaBoost "
   ]
  },
  {
   "cell_type": "code",
   "execution_count": 67,
   "id": "4ca726f0",
   "metadata": {},
   "outputs": [
    {
     "data": {
      "text/plain": [
       "{'n_estimators': 200}"
      ]
     },
     "execution_count": 67,
     "metadata": {},
     "output_type": "execute_result"
    }
   ],
   "source": [
    "from sklearn.ensemble import AdaBoostClassifier\n",
    "\n",
    "\n",
    "param = {\n",
    "    'n_estimators': [50, 100, 200, 500],\n",
    "}\n",
    "get_best_params(AdaBoostClassifier(), param)"
   ]
  },
  {
   "cell_type": "code",
   "execution_count": 96,
   "id": "6e1109b2",
   "metadata": {},
   "outputs": [
    {
     "data": {
      "text/plain": [
       "AdaBoostClassifier(n_estimators=500, random_state=7)"
      ]
     },
     "execution_count": 96,
     "metadata": {},
     "output_type": "execute_result"
    }
   ],
   "source": [
    "from sklearn.ensemble import AdaBoostClassifier\n",
    "\n",
    "\n",
    "n_estimators = 500\n",
    "ab = AdaBoostClassifier(n_estimators=n_estimators, random_state=7)\n",
    "ab.fit(X_train, y_train)"
   ]
  },
  {
   "cell_type": "code",
   "execution_count": 71,
   "id": "696b577e",
   "metadata": {},
   "outputs": [
    {
     "name": "stdout",
     "output_type": "stream",
     "text": [
      "0.7810511932191668\n"
     ]
    }
   ],
   "source": [
    "print_cros_val_score(ab)"
   ]
  },
  {
   "cell_type": "code",
   "execution_count": 98,
   "id": "3dddb19a",
   "metadata": {},
   "outputs": [],
   "source": [
    "y_pred = ab.predict(X_test)"
   ]
  },
  {
   "cell_type": "code",
   "execution_count": 99,
   "id": "eaa9e0b6",
   "metadata": {},
   "outputs": [
    {
     "name": "stdout",
     "output_type": "stream",
     "text": [
      "Confusion matrix is :  [[777 150   9]\n",
      " [167 369 113]\n",
      " [ 12  96 786]]\n",
      "Accuracy: 0.7793465106897943\n",
      "Recall_score is : 0.7793465106897943\n",
      "Precision Score is :  0.7761298213566759\n",
      "F1 score is:  0.7777348400034003\n",
      "Jaccard:  0.6500429729556843\n"
     ]
    }
   ],
   "source": [
    "print_metrics(y_pred, 'AdaBoostClassifier')"
   ]
  },
  {
   "cell_type": "code",
   "execution_count": 97,
   "id": "1e552994",
   "metadata": {},
   "outputs": [
    {
     "name": "stdout",
     "output_type": "stream",
     "text": [
      "Predicted:  [1 2 2]\n",
      "Expected:  [1, 1, 2]\n"
     ]
    }
   ],
   "source": [
    "test_prediction(ab)"
   ]
  },
  {
   "cell_type": "markdown",
   "id": "28f43491",
   "metadata": {},
   "source": [
    "# Gradient Boosting"
   ]
  },
  {
   "cell_type": "code",
   "execution_count": 76,
   "id": "5903d405",
   "metadata": {},
   "outputs": [
    {
     "data": {
      "text/plain": [
       "{'learning_rate': 0.7, 'max_features': 'log2', 'n_estimators': 500}"
      ]
     },
     "execution_count": 76,
     "metadata": {},
     "output_type": "execute_result"
    }
   ],
   "source": [
    "from sklearn.ensemble import GradientBoostingClassifier\n",
    "\n",
    "\n",
    "param = {\n",
    "    'n_estimators': [100, 500],\n",
    "    'learning_rate': [0.1, 0.4, 0.7],\n",
    "    'max_features' :['sqrt', 'log2', None],\n",
    "}\n",
    "get_best_params(GradientBoostingClassifier(), param)"
   ]
  },
  {
   "cell_type": "code",
   "execution_count": 98,
   "id": "69331989",
   "metadata": {},
   "outputs": [
    {
     "data": {
      "text/plain": [
       "GradientBoostingClassifier(learning_rate=0.7, max_features='log2',\n",
       "                           n_estimators=500, random_state=33)"
      ]
     },
     "execution_count": 98,
     "metadata": {},
     "output_type": "execute_result"
    }
   ],
   "source": [
    "from sklearn.ensemble import GradientBoostingClassifier\n",
    "\n",
    "n_estimators=500\n",
    "learning_rate=0.7\n",
    "max_features='log2'\n",
    "gb = GradientBoostingClassifier(n_estimators=n_estimators, learning_rate=learning_rate, max_features=max_features, random_state=seed)\n",
    "gb.fit(X_train, y_train)"
   ]
  },
  {
   "cell_type": "code",
   "execution_count": 78,
   "id": "a0aae680",
   "metadata": {},
   "outputs": [
    {
     "name": "stdout",
     "output_type": "stream",
     "text": [
      "0.9708670833386239\n"
     ]
    }
   ],
   "source": [
    "print_cros_val_score(gb)"
   ]
  },
  {
   "cell_type": "code",
   "execution_count": 100,
   "id": "993b8dd9",
   "metadata": {},
   "outputs": [],
   "source": [
    "y_pred = gb.predict(X_test)"
   ]
  },
  {
   "cell_type": "code",
   "execution_count": 101,
   "id": "b4f4d4c8",
   "metadata": {},
   "outputs": [
    {
     "name": "stdout",
     "output_type": "stream",
     "text": [
      "Confusion matrix is :  [[931   5   0]\n",
      " [ 15 624  10]\n",
      " [  1   6 887]]\n",
      "Accuracy: 0.9850746268656716\n",
      "Recall_score is : 0.9850746268656716\n",
      "Precision Score is :  0.9850652582427643\n",
      "F1 score is:  0.9850699425319425\n",
      "Jaccard:  0.9706095176578523\n"
     ]
    }
   ],
   "source": [
    "print_metrics(y_pred, 'GradientBoostingClassifier')"
   ]
  },
  {
   "cell_type": "code",
   "execution_count": 99,
   "id": "90bb0cf4",
   "metadata": {},
   "outputs": [
    {
     "name": "stdout",
     "output_type": "stream",
     "text": [
      "Predicted:  [1 2 2]\n",
      "Expected:  [1, 1, 2]\n"
     ]
    }
   ],
   "source": [
    "test_prediction(gb)"
   ]
  },
  {
   "cell_type": "code",
   "execution_count": 105,
   "id": "9579ec4b",
   "metadata": {},
   "outputs": [
    {
     "data": {
      "text/html": [
       "<div>\n",
       "<style scoped>\n",
       "    .dataframe tbody tr th:only-of-type {\n",
       "        vertical-align: middle;\n",
       "    }\n",
       "\n",
       "    .dataframe tbody tr th {\n",
       "        vertical-align: top;\n",
       "    }\n",
       "\n",
       "    .dataframe thead th {\n",
       "        text-align: right;\n",
       "    }\n",
       "</style>\n",
       "<table border=\"1\" class=\"dataframe\">\n",
       "  <thead>\n",
       "    <tr style=\"text-align: right;\">\n",
       "      <th></th>\n",
       "      <th>KNN</th>\n",
       "      <th>SVC</th>\n",
       "      <th>NuSVC</th>\n",
       "      <th>RandomForestClassifier</th>\n",
       "      <th>ExtraTreesClassifier</th>\n",
       "      <th>AdaBoostClassifier</th>\n",
       "      <th>GradientBoostingClassifier</th>\n",
       "      <th>Best</th>\n",
       "    </tr>\n",
       "  </thead>\n",
       "  <tbody>\n",
       "    <tr>\n",
       "      <th>Accuracy</th>\n",
       "      <td>0.993949</td>\n",
       "      <td>0.997176</td>\n",
       "      <td>0.995966</td>\n",
       "      <td>0.978620</td>\n",
       "      <td>0.988302</td>\n",
       "      <td>0.779347</td>\n",
       "      <td>0.985075</td>\n",
       "      <td>SVC</td>\n",
       "    </tr>\n",
       "    <tr>\n",
       "      <th>Recall_score</th>\n",
       "      <td>0.993949</td>\n",
       "      <td>0.997176</td>\n",
       "      <td>0.995966</td>\n",
       "      <td>0.978620</td>\n",
       "      <td>0.988302</td>\n",
       "      <td>0.779347</td>\n",
       "      <td>0.985075</td>\n",
       "      <td>SVC</td>\n",
       "    </tr>\n",
       "    <tr>\n",
       "      <th>Precision</th>\n",
       "      <td>0.993999</td>\n",
       "      <td>0.997179</td>\n",
       "      <td>0.995981</td>\n",
       "      <td>0.978648</td>\n",
       "      <td>0.988341</td>\n",
       "      <td>0.776130</td>\n",
       "      <td>0.985065</td>\n",
       "      <td>SVC</td>\n",
       "    </tr>\n",
       "    <tr>\n",
       "      <th>F1</th>\n",
       "      <td>0.993974</td>\n",
       "      <td>0.997178</td>\n",
       "      <td>0.995973</td>\n",
       "      <td>0.978634</td>\n",
       "      <td>0.988321</td>\n",
       "      <td>0.777735</td>\n",
       "      <td>0.985070</td>\n",
       "      <td>SVC</td>\n",
       "    </tr>\n",
       "    <tr>\n",
       "      <th>Jaccard</th>\n",
       "      <td>0.987948</td>\n",
       "      <td>0.994370</td>\n",
       "      <td>0.991976</td>\n",
       "      <td>0.958105</td>\n",
       "      <td>0.976844</td>\n",
       "      <td>0.650043</td>\n",
       "      <td>0.970610</td>\n",
       "      <td>SVC</td>\n",
       "    </tr>\n",
       "  </tbody>\n",
       "</table>\n",
       "</div>"
      ],
      "text/plain": [
       "                   KNN       SVC     NuSVC  RandomForestClassifier  \\\n",
       "Accuracy      0.993949  0.997176  0.995966                0.978620   \n",
       "Recall_score  0.993949  0.997176  0.995966                0.978620   \n",
       "Precision     0.993999  0.997179  0.995981                0.978648   \n",
       "F1            0.993974  0.997178  0.995973                0.978634   \n",
       "Jaccard       0.987948  0.994370  0.991976                0.958105   \n",
       "\n",
       "              ExtraTreesClassifier  AdaBoostClassifier  \\\n",
       "Accuracy                  0.988302            0.779347   \n",
       "Recall_score              0.988302            0.779347   \n",
       "Precision                 0.988341            0.776130   \n",
       "F1                        0.988321            0.777735   \n",
       "Jaccard                   0.976844            0.650043   \n",
       "\n",
       "              GradientBoostingClassifier Best  \n",
       "Accuracy                        0.985075  SVC  \n",
       "Recall_score                    0.985075  SVC  \n",
       "Precision                       0.985065  SVC  \n",
       "F1                              0.985070  SVC  \n",
       "Jaccard                         0.970610  SVC  "
      ]
     },
     "execution_count": 105,
     "metadata": {},
     "output_type": "execute_result"
    }
   ],
   "source": [
    "metrics_df = pd.DataFrame(all_metrics)\n",
    "metrics_df['Best'] = metrics_df.idxmax(axis=1)\n",
    "metrics_df"
   ]
  },
  {
   "cell_type": "code",
   "execution_count": null,
   "id": "c236d643",
   "metadata": {},
   "outputs": [],
   "source": []
  }
 ],
 "metadata": {
  "kernelspec": {
   "display_name": "Python 3 (ipykernel)",
   "language": "python",
   "name": "python3"
  },
  "language_info": {
   "codemirror_mode": {
    "name": "ipython",
    "version": 3
   },
   "file_extension": ".py",
   "mimetype": "text/x-python",
   "name": "python",
   "nbconvert_exporter": "python",
   "pygments_lexer": "ipython3",
   "version": "3.9.7"
  }
 },
 "nbformat": 4,
 "nbformat_minor": 5
}
